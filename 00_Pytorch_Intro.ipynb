{
  "nbformat": 4,
  "nbformat_minor": 0,
  "metadata": {
    "colab": {
      "provenance": []
    },
    "kernelspec": {
      "name": "python3",
      "display_name": "Python 3"
    },
    "language_info": {
      "name": "python"
    }
  },
  "cells": [
    {
      "cell_type": "markdown",
      "source": [
        "## 1# Pytorch Fundamentals"
      ],
      "metadata": {
        "id": "Qg-1Ne4MnUBz"
      }
    },
    {
      "cell_type": "code",
      "execution_count": 1,
      "metadata": {
        "id": "4QeYuNuonFKh"
      },
      "outputs": [],
      "source": [
        "import torch\n",
        "import pandas as pd\n",
        "import numpy as np\n",
        "import matplotlib.pyplot as plt"
      ]
    },
    {
      "cell_type": "code",
      "source": [
        "print(torch.__version__)"
      ],
      "metadata": {
        "colab": {
          "base_uri": "https://localhost:8080/"
        },
        "id": "-XKyCGrdny7j",
        "outputId": "9e5dbacd-1ef5-4dbc-feb5-cb1816f05a78"
      },
      "execution_count": 2,
      "outputs": [
        {
          "output_type": "stream",
          "name": "stdout",
          "text": [
            "2.2.1+cu121\n"
          ]
        }
      ]
    },
    {
      "cell_type": "markdown",
      "source": [
        "## Creating Tensors"
      ],
      "metadata": {
        "id": "ktq4Kc411YgS"
      }
    },
    {
      "cell_type": "code",
      "source": [
        "## Scalers\n",
        "\n",
        "s1 = torch.tensor(10)\n",
        "print(s1)"
      ],
      "metadata": {
        "id": "osZJrp3don68",
        "colab": {
          "base_uri": "https://localhost:8080/"
        },
        "outputId": "aa6b40f9-ac29-42a9-8879-8f1aae13b864"
      },
      "execution_count": 3,
      "outputs": [
        {
          "output_type": "stream",
          "name": "stdout",
          "text": [
            "tensor(10)\n"
          ]
        }
      ]
    },
    {
      "cell_type": "code",
      "source": [
        "s1.ndim"
      ],
      "metadata": {
        "colab": {
          "base_uri": "https://localhost:8080/"
        },
        "id": "l5m-OvBC1jfb",
        "outputId": "d6a41287-b6a1-43b5-b075-a5684843d6e9"
      },
      "execution_count": 4,
      "outputs": [
        {
          "output_type": "execute_result",
          "data": {
            "text/plain": [
              "0"
            ]
          },
          "metadata": {},
          "execution_count": 4
        }
      ]
    },
    {
      "cell_type": "code",
      "source": [
        "## Get number back as Python int\n",
        "s1.item()"
      ],
      "metadata": {
        "colab": {
          "base_uri": "https://localhost:8080/"
        },
        "id": "qFxQENjh2FGo",
        "outputId": "671cd683-5e79-4c11-a67d-bf88336b430e"
      },
      "execution_count": 5,
      "outputs": [
        {
          "output_type": "execute_result",
          "data": {
            "text/plain": [
              "10"
            ]
          },
          "metadata": {},
          "execution_count": 5
        }
      ]
    },
    {
      "cell_type": "code",
      "source": [
        "## Vector\n",
        "\n",
        "v1 = torch.tensor([5, 5])\n",
        "v1"
      ],
      "metadata": {
        "colab": {
          "base_uri": "https://localhost:8080/"
        },
        "id": "fftgf0Ui2hT5",
        "outputId": "d0ba7d9a-d79b-4b76-982f-316ae84a8f5c"
      },
      "execution_count": 6,
      "outputs": [
        {
          "output_type": "execute_result",
          "data": {
            "text/plain": [
              "tensor([5, 5])"
            ]
          },
          "metadata": {},
          "execution_count": 6
        }
      ]
    },
    {
      "cell_type": "code",
      "source": [
        "v1.ndim"
      ],
      "metadata": {
        "colab": {
          "base_uri": "https://localhost:8080/"
        },
        "id": "0B_m0q3w228V",
        "outputId": "62592b66-36d6-40e8-d326-6677b59041cd"
      },
      "execution_count": 7,
      "outputs": [
        {
          "output_type": "execute_result",
          "data": {
            "text/plain": [
              "1"
            ]
          },
          "metadata": {},
          "execution_count": 7
        }
      ]
    },
    {
      "cell_type": "code",
      "source": [
        "v1.shape"
      ],
      "metadata": {
        "colab": {
          "base_uri": "https://localhost:8080/"
        },
        "id": "ijODxaAa24Wz",
        "outputId": "42003dfd-c410-4c7b-97fc-9aed0a1757a7"
      },
      "execution_count": 8,
      "outputs": [
        {
          "output_type": "execute_result",
          "data": {
            "text/plain": [
              "torch.Size([2])"
            ]
          },
          "metadata": {},
          "execution_count": 8
        }
      ]
    },
    {
      "cell_type": "code",
      "source": [
        "## Matrix\n",
        "M1 = torch.tensor([[7,8],\n",
        "                   [9,10]])\n",
        "\n",
        "M1"
      ],
      "metadata": {
        "colab": {
          "base_uri": "https://localhost:8080/"
        },
        "id": "ZCrT1u713Hav",
        "outputId": "a80c1895-9803-40a1-d71e-ea5489f85030"
      },
      "execution_count": 9,
      "outputs": [
        {
          "output_type": "execute_result",
          "data": {
            "text/plain": [
              "tensor([[ 7,  8],\n",
              "        [ 9, 10]])"
            ]
          },
          "metadata": {},
          "execution_count": 9
        }
      ]
    },
    {
      "cell_type": "code",
      "source": [
        "M1.ndim"
      ],
      "metadata": {
        "colab": {
          "base_uri": "https://localhost:8080/"
        },
        "id": "XJQ7l6Cz3WOY",
        "outputId": "c4f6ec3e-e9a6-476a-98f4-86b0f89bd65f"
      },
      "execution_count": 10,
      "outputs": [
        {
          "output_type": "execute_result",
          "data": {
            "text/plain": [
              "2"
            ]
          },
          "metadata": {},
          "execution_count": 10
        }
      ]
    },
    {
      "cell_type": "code",
      "source": [
        "M1[1]"
      ],
      "metadata": {
        "colab": {
          "base_uri": "https://localhost:8080/"
        },
        "id": "efDCj0uX3f7P",
        "outputId": "f61faed1-fab9-40a6-dd72-5a436eb2abcc"
      },
      "execution_count": 11,
      "outputs": [
        {
          "output_type": "execute_result",
          "data": {
            "text/plain": [
              "tensor([ 9, 10])"
            ]
          },
          "metadata": {},
          "execution_count": 11
        }
      ]
    },
    {
      "cell_type": "code",
      "source": [
        "M1.shape"
      ],
      "metadata": {
        "colab": {
          "base_uri": "https://localhost:8080/"
        },
        "id": "vMqz7bgn3k5B",
        "outputId": "37e3e272-19c7-41e9-a782-36fc63686685"
      },
      "execution_count": 12,
      "outputs": [
        {
          "output_type": "execute_result",
          "data": {
            "text/plain": [
              "torch.Size([2, 2])"
            ]
          },
          "metadata": {},
          "execution_count": 12
        }
      ]
    },
    {
      "cell_type": "code",
      "source": [
        "## Tensor\n",
        "T1 = torch.tensor([[[1,2,3],\n",
        "                    [3,6,9],\n",
        "                    [2,5,8]]])\n",
        "T1"
      ],
      "metadata": {
        "colab": {
          "base_uri": "https://localhost:8080/"
        },
        "id": "ZRrw3ZWx3nrX",
        "outputId": "826531d4-dd70-4583-8cee-7acef5289b79"
      },
      "execution_count": 13,
      "outputs": [
        {
          "output_type": "execute_result",
          "data": {
            "text/plain": [
              "tensor([[[1, 2, 3],\n",
              "         [3, 6, 9],\n",
              "         [2, 5, 8]]])"
            ]
          },
          "metadata": {},
          "execution_count": 13
        }
      ]
    },
    {
      "cell_type": "code",
      "source": [
        "T1.ndim"
      ],
      "metadata": {
        "colab": {
          "base_uri": "https://localhost:8080/"
        },
        "id": "DBMLvxK44I7K",
        "outputId": "c9313b36-5f4b-462e-ffae-ae123cbb5eda"
      },
      "execution_count": 14,
      "outputs": [
        {
          "output_type": "execute_result",
          "data": {
            "text/plain": [
              "3"
            ]
          },
          "metadata": {},
          "execution_count": 14
        }
      ]
    },
    {
      "cell_type": "code",
      "source": [
        "T1.shape"
      ],
      "metadata": {
        "colab": {
          "base_uri": "https://localhost:8080/"
        },
        "id": "a4txnSZM4Knn",
        "outputId": "53fa8e70-5a1c-4812-8f22-5b2555ea10c6"
      },
      "execution_count": 15,
      "outputs": [
        {
          "output_type": "execute_result",
          "data": {
            "text/plain": [
              "torch.Size([1, 3, 3])"
            ]
          },
          "metadata": {},
          "execution_count": 15
        }
      ]
    },
    {
      "cell_type": "code",
      "source": [
        "T1[0]"
      ],
      "metadata": {
        "colab": {
          "base_uri": "https://localhost:8080/"
        },
        "id": "y90x89M94QtH",
        "outputId": "3a9b2819-9fb6-4bf6-b162-d34221311eff"
      },
      "execution_count": 16,
      "outputs": [
        {
          "output_type": "execute_result",
          "data": {
            "text/plain": [
              "tensor([[1, 2, 3],\n",
              "        [3, 6, 9],\n",
              "        [2, 5, 8]])"
            ]
          },
          "metadata": {},
          "execution_count": 16
        }
      ]
    },
    {
      "cell_type": "markdown",
      "source": [
        "# 2# Creating Random Tensors in PyTorch\n",
        "\n",
        "\n"
      ],
      "metadata": {
        "id": "nGAZMELV5HL7"
      }
    },
    {
      "cell_type": "code",
      "source": [
        "randTensor1 = torch.rand(3,4)\n",
        "randTensor1"
      ],
      "metadata": {
        "colab": {
          "base_uri": "https://localhost:8080/"
        },
        "id": "MAgOgo8d5KJl",
        "outputId": "9ce38418-5b79-4b48-8a02-f56dd295093a"
      },
      "execution_count": 17,
      "outputs": [
        {
          "output_type": "execute_result",
          "data": {
            "text/plain": [
              "tensor([[0.3541, 0.7916, 0.9834, 0.9832],\n",
              "        [0.8685, 0.2084, 0.0152, 0.8382],\n",
              "        [0.9359, 0.9075, 0.4938, 0.4972]])"
            ]
          },
          "metadata": {},
          "execution_count": 17
        }
      ]
    },
    {
      "cell_type": "code",
      "source": [
        "randTensor1.ndim"
      ],
      "metadata": {
        "colab": {
          "base_uri": "https://localhost:8080/"
        },
        "id": "5vS6c0zU6bP-",
        "outputId": "26339909-7543-412d-998b-81d019637a81"
      },
      "execution_count": 18,
      "outputs": [
        {
          "output_type": "execute_result",
          "data": {
            "text/plain": [
              "2"
            ]
          },
          "metadata": {},
          "execution_count": 18
        }
      ]
    },
    {
      "cell_type": "code",
      "source": [
        "randTensor2 = torch.rand(1,3,3)\n",
        "randTensor2"
      ],
      "metadata": {
        "colab": {
          "base_uri": "https://localhost:8080/"
        },
        "id": "C_ieRYxU6hux",
        "outputId": "af6fa92b-0dc7-43a3-9a61-9f83c1de53ee"
      },
      "execution_count": 19,
      "outputs": [
        {
          "output_type": "execute_result",
          "data": {
            "text/plain": [
              "tensor([[[0.6276, 0.3743, 0.5012],\n",
              "         [0.8509, 0.1763, 0.3496],\n",
              "         [0.4578, 0.0196, 0.8915]]])"
            ]
          },
          "metadata": {},
          "execution_count": 19
        }
      ]
    },
    {
      "cell_type": "code",
      "source": [
        "randTensor2.ndim"
      ],
      "metadata": {
        "colab": {
          "base_uri": "https://localhost:8080/"
        },
        "id": "5Y64c4db6ymn",
        "outputId": "bdecb9d9-1995-42d4-b85a-3a6b97b7b687"
      },
      "execution_count": 20,
      "outputs": [
        {
          "output_type": "execute_result",
          "data": {
            "text/plain": [
              "3"
            ]
          },
          "metadata": {},
          "execution_count": 20
        }
      ]
    },
    {
      "cell_type": "code",
      "source": [
        "## Create a random tensor similar to image shape\n",
        "\n",
        "image_tensor = torch.rand(size=(512,512,3))\n",
        "image_tensor\n",
        "image_tensor.shape, image_tensor.ndim"
      ],
      "metadata": {
        "colab": {
          "base_uri": "https://localhost:8080/"
        },
        "id": "8ZMNquwv61AM",
        "outputId": "06a713ea-91c9-4527-892f-701c5600811b"
      },
      "execution_count": 21,
      "outputs": [
        {
          "output_type": "execute_result",
          "data": {
            "text/plain": [
              "(torch.Size([512, 512, 3]), 3)"
            ]
          },
          "metadata": {},
          "execution_count": 21
        }
      ]
    },
    {
      "cell_type": "markdown",
      "source": [
        "# Creating Tensors With Zeros and Ones in PyTorch"
      ],
      "metadata": {
        "id": "n_-VHA_B8VIk"
      }
    },
    {
      "cell_type": "code",
      "source": [
        "# Create a tensor of all zeros\n",
        "zeros = torch.zeros([3,4])\n",
        "zeros"
      ],
      "metadata": {
        "colab": {
          "base_uri": "https://localhost:8080/"
        },
        "id": "NRczSHKn7nMj",
        "outputId": "6dd4deb6-b844-43c0-f577-8af1731682b6"
      },
      "execution_count": 22,
      "outputs": [
        {
          "output_type": "execute_result",
          "data": {
            "text/plain": [
              "tensor([[0., 0., 0., 0.],\n",
              "        [0., 0., 0., 0.],\n",
              "        [0., 0., 0., 0.]])"
            ]
          },
          "metadata": {},
          "execution_count": 22
        }
      ]
    },
    {
      "cell_type": "code",
      "source": [
        "zeros * randTensor1"
      ],
      "metadata": {
        "colab": {
          "base_uri": "https://localhost:8080/"
        },
        "id": "cvvXEp1N80aQ",
        "outputId": "965f899c-5284-4d5a-8931-4447b4f38d78"
      },
      "execution_count": 23,
      "outputs": [
        {
          "output_type": "execute_result",
          "data": {
            "text/plain": [
              "tensor([[0., 0., 0., 0.],\n",
              "        [0., 0., 0., 0.],\n",
              "        [0., 0., 0., 0.]])"
            ]
          },
          "metadata": {},
          "execution_count": 23
        }
      ]
    },
    {
      "cell_type": "code",
      "source": [
        "# Create a tensor of all Ones\n",
        "\n",
        "ones = torch.ones([3,4])\n",
        "ones"
      ],
      "metadata": {
        "colab": {
          "base_uri": "https://localhost:8080/"
        },
        "id": "SO3NYkg986NH",
        "outputId": "e8d9c915-58e3-48f5-b311-7cd87568c65a"
      },
      "execution_count": 24,
      "outputs": [
        {
          "output_type": "execute_result",
          "data": {
            "text/plain": [
              "tensor([[1., 1., 1., 1.],\n",
              "        [1., 1., 1., 1.],\n",
              "        [1., 1., 1., 1.]])"
            ]
          },
          "metadata": {},
          "execution_count": 24
        }
      ]
    },
    {
      "cell_type": "code",
      "source": [
        "## Default datatype of pytorch tensor\n",
        "ones.dtype"
      ],
      "metadata": {
        "colab": {
          "base_uri": "https://localhost:8080/"
        },
        "id": "nLWVLIvq_TtJ",
        "outputId": "efce82d0-0cd1-4f34-83ac-4303408a6653"
      },
      "execution_count": 25,
      "outputs": [
        {
          "output_type": "execute_result",
          "data": {
            "text/plain": [
              "torch.float32"
            ]
          },
          "metadata": {},
          "execution_count": 25
        }
      ]
    },
    {
      "cell_type": "code",
      "source": [
        "randTensor1.dtype"
      ],
      "metadata": {
        "colab": {
          "base_uri": "https://localhost:8080/"
        },
        "id": "iIGyWqp1_W7O",
        "outputId": "f6d7dcb6-e16b-4602-a183-4b4276ef7c5b"
      },
      "execution_count": 26,
      "outputs": [
        {
          "output_type": "execute_result",
          "data": {
            "text/plain": [
              "torch.float32"
            ]
          },
          "metadata": {},
          "execution_count": 26
        }
      ]
    },
    {
      "cell_type": "markdown",
      "source": [
        "# Creating a Tensor Range and Tensors Like Other Tensors"
      ],
      "metadata": {
        "id": "LH-i162AQF_K"
      }
    },
    {
      "cell_type": "code",
      "source": [
        "## Use tourch.arange\n",
        "\n",
        "one_to_zero = torch.arange(start=0, end=10)\n",
        "one_to_zero"
      ],
      "metadata": {
        "id": "bVJgkqJQ_ZtP",
        "colab": {
          "base_uri": "https://localhost:8080/"
        },
        "outputId": "3d90ab1b-1d56-41cb-9d09-c490c5d42269"
      },
      "execution_count": 27,
      "outputs": [
        {
          "output_type": "execute_result",
          "data": {
            "text/plain": [
              "tensor([0, 1, 2, 3, 4, 5, 6, 7, 8, 9])"
            ]
          },
          "metadata": {},
          "execution_count": 27
        }
      ]
    },
    {
      "cell_type": "code",
      "source": [
        "## Creating tensors like\n",
        "\n",
        "ten_zeros = torch.zeros_like(input=one_to_zero)\n",
        "ten_zeros"
      ],
      "metadata": {
        "colab": {
          "base_uri": "https://localhost:8080/"
        },
        "id": "A0217FYXQkSz",
        "outputId": "e5807a13-46f5-4e9f-f97b-fe89652b50d6"
      },
      "execution_count": 28,
      "outputs": [
        {
          "output_type": "execute_result",
          "data": {
            "text/plain": [
              "tensor([0, 0, 0, 0, 0, 0, 0, 0, 0, 0])"
            ]
          },
          "metadata": {},
          "execution_count": 28
        }
      ]
    },
    {
      "cell_type": "markdown",
      "source": [
        "# Dealing With Tensor Data Types"
      ],
      "metadata": {
        "id": "aLopExiGRE27"
      }
    },
    {
      "cell_type": "code",
      "source": [
        "# Float 32-bit Tensor\n",
        "float_32_tensor = torch.tensor([3.0, 5.0, 7.0],\n",
        "                               dtype=None)\n",
        "\n",
        "float_32_tensor"
      ],
      "metadata": {
        "id": "2dMsGNfBQ8UQ",
        "colab": {
          "base_uri": "https://localhost:8080/"
        },
        "outputId": "ceb39a06-0818-473d-827e-b3d11d52e939"
      },
      "execution_count": 29,
      "outputs": [
        {
          "output_type": "execute_result",
          "data": {
            "text/plain": [
              "tensor([3., 5., 7.])"
            ]
          },
          "metadata": {},
          "execution_count": 29
        }
      ]
    },
    {
      "cell_type": "code",
      "source": [
        "float_32_tensor.dtype"
      ],
      "metadata": {
        "colab": {
          "base_uri": "https://localhost:8080/"
        },
        "id": "wfrY3I50eu2G",
        "outputId": "da814e41-ed51-478b-d57a-2dce3a5d8fa8"
      },
      "execution_count": 30,
      "outputs": [
        {
          "output_type": "execute_result",
          "data": {
            "text/plain": [
              "torch.float32"
            ]
          },
          "metadata": {},
          "execution_count": 30
        }
      ]
    },
    {
      "cell_type": "code",
      "source": [
        "float_16_tensor = torch.tensor([3.0, 5.0, 7.0],\n",
        "                               dtype=torch.float16)\n",
        "\n",
        "float_16_tensor"
      ],
      "metadata": {
        "colab": {
          "base_uri": "https://localhost:8080/"
        },
        "id": "HWgXk-h8e0w4",
        "outputId": "b27a6602-8587-4096-ed04-a79de2258175"
      },
      "execution_count": 31,
      "outputs": [
        {
          "output_type": "execute_result",
          "data": {
            "text/plain": [
              "tensor([3., 5., 7.], dtype=torch.float16)"
            ]
          },
          "metadata": {},
          "execution_count": 31
        }
      ]
    },
    {
      "cell_type": "code",
      "source": [
        "float_32_tensor = torch.tensor([3.0, 5.0, 7.0],\n",
        "                               dtype=None,\n",
        "                               device=\"cpu\",\n",
        "                               requires_grad=False)\n",
        "\n",
        "float_32_tensor.dtype"
      ],
      "metadata": {
        "colab": {
          "base_uri": "https://localhost:8080/"
        },
        "id": "jUwjOk_ofJl8",
        "outputId": "7df8a0fc-7488-4a94-de77-4c8f0b63899b"
      },
      "execution_count": 32,
      "outputs": [
        {
          "output_type": "execute_result",
          "data": {
            "text/plain": [
              "torch.float32"
            ]
          },
          "metadata": {},
          "execution_count": 32
        }
      ]
    },
    {
      "cell_type": "code",
      "source": [
        "float_16_tensor = float_32_tensor.type(torch.float16)\n",
        "float_16_tensor"
      ],
      "metadata": {
        "colab": {
          "base_uri": "https://localhost:8080/"
        },
        "id": "tkFaaKk5fmFG",
        "outputId": "b507dd1e-d6b5-4e9d-a804-132425f958d3"
      },
      "execution_count": 33,
      "outputs": [
        {
          "output_type": "execute_result",
          "data": {
            "text/plain": [
              "tensor([3., 5., 7.], dtype=torch.float16)"
            ]
          },
          "metadata": {},
          "execution_count": 33
        }
      ]
    },
    {
      "cell_type": "code",
      "source": [
        "float_16_tensor * float_32_tensor"
      ],
      "metadata": {
        "colab": {
          "base_uri": "https://localhost:8080/"
        },
        "id": "H2DtcoKef7YT",
        "outputId": "58fb54b9-aed5-40b4-c835-33f56536282e"
      },
      "execution_count": 34,
      "outputs": [
        {
          "output_type": "execute_result",
          "data": {
            "text/plain": [
              "tensor([ 9., 25., 49.])"
            ]
          },
          "metadata": {},
          "execution_count": 34
        }
      ]
    },
    {
      "cell_type": "code",
      "source": [
        "int_32_tensor = torch.tensor([3, 5, 7], dtype=torch.int32)\n",
        "int_32_tensor"
      ],
      "metadata": {
        "colab": {
          "base_uri": "https://localhost:8080/"
        },
        "id": "nzkSIIkXgGvK",
        "outputId": "1d6e5252-9ed2-4f7c-c08c-252c9b1074a8"
      },
      "execution_count": 35,
      "outputs": [
        {
          "output_type": "execute_result",
          "data": {
            "text/plain": [
              "tensor([3, 5, 7], dtype=torch.int32)"
            ]
          },
          "metadata": {},
          "execution_count": 35
        }
      ]
    },
    {
      "cell_type": "code",
      "source": [
        "float_32_tensor * int_32_tensor"
      ],
      "metadata": {
        "colab": {
          "base_uri": "https://localhost:8080/"
        },
        "id": "nLEKk1t6ga5h",
        "outputId": "f2b79f7c-ae7a-46e0-cf25-3fbc36b244e5"
      },
      "execution_count": 36,
      "outputs": [
        {
          "output_type": "execute_result",
          "data": {
            "text/plain": [
              "tensor([ 9., 25., 49.])"
            ]
          },
          "metadata": {},
          "execution_count": 36
        }
      ]
    },
    {
      "cell_type": "code",
      "source": [
        "(float_32_tensor * int_32_tensor).dtype"
      ],
      "metadata": {
        "colab": {
          "base_uri": "https://localhost:8080/"
        },
        "id": "IeUOYT35gkIA",
        "outputId": "69d47b9d-5d5b-4de1-da7a-aa32e82612ea"
      },
      "execution_count": 37,
      "outputs": [
        {
          "output_type": "execute_result",
          "data": {
            "text/plain": [
              "torch.float32"
            ]
          },
          "metadata": {},
          "execution_count": 37
        }
      ]
    },
    {
      "cell_type": "markdown",
      "source": [
        "# Getting information from tensors\n",
        "1. Tensors not right datatype - to get datatypes from tensor, can use `tensor.dtype`.\n",
        "2. Tensors not right shape - to get shape a tensor, can use `tensor.shape`.\n",
        "3. Tensor not on the right device - to get devices from a tensor, can use `tensor.device`."
      ],
      "metadata": {
        "id": "0CAyhG_lbqYR"
      }
    },
    {
      "cell_type": "code",
      "source": [
        "rand_tensor = torch.rand(3,4)\n",
        "rand_tensor"
      ],
      "metadata": {
        "colab": {
          "base_uri": "https://localhost:8080/"
        },
        "id": "nJXylZRWgr2o",
        "outputId": "6e8e7711-44d3-43be-c513-3330302bc074"
      },
      "execution_count": 38,
      "outputs": [
        {
          "output_type": "execute_result",
          "data": {
            "text/plain": [
              "tensor([[0.0470, 0.3736, 0.5526, 0.1468],\n",
              "        [0.6771, 0.8303, 0.3584, 0.2032],\n",
              "        [0.4455, 0.9581, 0.7517, 0.4102]])"
            ]
          },
          "metadata": {},
          "execution_count": 38
        }
      ]
    },
    {
      "cell_type": "code",
      "source": [
        "print(rand_tensor)\n",
        "print(f\"Datatype of tensor: {rand_tensor.dtype}\")\n",
        "print(f\"Shape of tensor: {rand_tensor.shape}\")\n",
        "print(f\"Device tensor is on: {rand_tensor.device}\")"
      ],
      "metadata": {
        "colab": {
          "base_uri": "https://localhost:8080/"
        },
        "id": "Oh6h71xFcyew",
        "outputId": "50a88f0f-bb6c-4d5c-9d27-b9798800acb6"
      },
      "execution_count": 39,
      "outputs": [
        {
          "output_type": "stream",
          "name": "stdout",
          "text": [
            "tensor([[0.0470, 0.3736, 0.5526, 0.1468],\n",
            "        [0.6771, 0.8303, 0.3584, 0.2032],\n",
            "        [0.4455, 0.9581, 0.7517, 0.4102]])\n",
            "Datatype of tensor: torch.float32\n",
            "Shape of tensor: torch.Size([3, 4])\n",
            "Device tensor is on: cpu\n"
          ]
        }
      ]
    },
    {
      "cell_type": "markdown",
      "source": [
        "# Math Operations with Tensors\n",
        "\n",
        "**Tensor operations include:**\n",
        "- Addition\n",
        "- Subtraction\n",
        "- Multiplication (Element-wise)\n",
        "- Division\n",
        "- Matrix Multiplication"
      ],
      "metadata": {
        "id": "ouGrin0_trKt"
      }
    },
    {
      "cell_type": "code",
      "source": [
        "#Create a tensor\n",
        "tensor = torch.tensor([10, 20, 30])\n",
        "tensor"
      ],
      "metadata": {
        "id": "7cPG5e04dcQk",
        "colab": {
          "base_uri": "https://localhost:8080/"
        },
        "outputId": "95eca69f-dd0f-4d54-a440-7c6bd7319851"
      },
      "execution_count": 40,
      "outputs": [
        {
          "output_type": "execute_result",
          "data": {
            "text/plain": [
              "tensor([10, 20, 30])"
            ]
          },
          "metadata": {},
          "execution_count": 40
        }
      ]
    },
    {
      "cell_type": "code",
      "source": [
        "#Addition\n",
        "print(tensor + 10)\n",
        "print(torch.add(tensor, 20))"
      ],
      "metadata": {
        "colab": {
          "base_uri": "https://localhost:8080/"
        },
        "id": "Eaw3sfIluvct",
        "outputId": "5d358219-830b-4b5b-d2fa-548a3ed8434d"
      },
      "execution_count": 41,
      "outputs": [
        {
          "output_type": "stream",
          "name": "stdout",
          "text": [
            "tensor([20, 30, 40])\n",
            "tensor([30, 40, 50])\n"
          ]
        }
      ]
    },
    {
      "cell_type": "code",
      "source": [
        "#Multiplication\n",
        "print(tensor * 10)\n",
        "print(torch.mul(tensor, 10))"
      ],
      "metadata": {
        "colab": {
          "base_uri": "https://localhost:8080/"
        },
        "id": "MIvxg-ORu7u8",
        "outputId": "c134cda4-d6a2-471a-982c-87a2c040f11e"
      },
      "execution_count": 42,
      "outputs": [
        {
          "output_type": "stream",
          "name": "stdout",
          "text": [
            "tensor([100, 200, 300])\n",
            "tensor([100, 200, 300])\n"
          ]
        }
      ]
    },
    {
      "cell_type": "code",
      "source": [
        "print(tensor/2)\n",
        "print(torch.divide(tensor, 2))"
      ],
      "metadata": {
        "colab": {
          "base_uri": "https://localhost:8080/"
        },
        "id": "K2L6NNj9vO_3",
        "outputId": "939522ab-bbfb-4a92-d70c-d7d2c725b2cc"
      },
      "execution_count": 43,
      "outputs": [
        {
          "output_type": "stream",
          "name": "stdout",
          "text": [
            "tensor([ 5., 10., 15.])\n",
            "tensor([ 5., 10., 15.])\n"
          ]
        }
      ]
    },
    {
      "cell_type": "markdown",
      "source": [
        "# Matrix Multiplication\n",
        "\n",
        "Matrix multiplication is a fundamental operation in linear algebra that involves multiplying two matrices to produce a new matrix. In order for matrix multiplication to be defined, the number of columns in the first matrix must be equal to the number of rows in the second matrix.\n",
        "\n",
        "Given two matrices:\n",
        "\n",
        "$A = \\begin{bmatrix} a_{11} & a_{12} & \\cdots & a_{1n} \\\\ a_{21} & a_{22} & \\cdots & a_{2n} \\\\ \\vdots & \\vdots & \\ddots & \\vdots \\\\ a_{m1} & a_{m2} & \\cdots & a_{mn} \\end{bmatrix}$\n",
        "\n",
        "and\n",
        "\n",
        "$B = \\begin{bmatrix} b_{11} & b_{12} & \\cdots & b_{1p} \\\\ b_{21} & b_{22} & \\cdots & b_{2p} \\\\ \\vdots & \\vdots & \\ddots & \\vdots \\\\ b_{n1} & b_{n2} & \\cdots & b_{np} \\end{bmatrix}$\n",
        "\n",
        "the product of matrices $( A )$ and $( B )$ (denoted as $( AB ))$ is calculated as follows:\n",
        "\n",
        "$AB = \\begin{bmatrix} c_{11} & c_{12} & \\cdots & c_{1p} \\\\ c_{21} & c_{22} & \\cdots & c_{2p} \\\\ \\vdots & \\vdots & \\ddots & \\vdots \\\\ c_{m1} & c_{m2} & \\cdots & c_{mp} \\end{bmatrix}$\n",
        "\n",
        "where each element $( c_{ij} )$ of the resulting matrix $( C )$ is obtained by taking the dot product of the $( i )$-th row of matrix $( A )$ and the $( j )$-th column of matrix $( B )$:\n",
        "\n",
        "$c_{ij} = a_{i1}b_{1j} + a_{i2}b_{2j} + \\cdots + a_{in}b_{nj} = \\sum_{k=1}^{n} a_{ik}b_{kj}$\n",
        "\n",
        "Matrix multiplication can be performed using different methods, such as the row-by-column method, where each element of the resulting matrix is computed individually, or more efficient algorithms like the Strassen algorithm or the Coppersmith–Winograd algorithm, which are used for large matrices.\n",
        "\n",
        "Matrix multiplication is used in various fields such as computer graphics, robotics, physics, and engineering for solving systems of linear equations, transformations, and many other applications.\n",
        "\n",
        "Two main ways of performing multiplication in neural networks and deep learning:\n",
        "\n",
        "### 1. Element-wise multiplicaion\n",
        "\n",
        "![Alt text](https://www.mathsisfun.com/algebra/images/matrix-multiply-constant.svg \"a title\")\n",
        "\n",
        "### 2. Matrix multiplication (dot product)\n",
        "\n",
        "![Alt text](https://www.mathsisfun.com/algebra/images/matrix-multiply-a.svg \"a title\")"
      ],
      "metadata": {
        "id": "cCknelVIgL3u"
      }
    },
    {
      "cell_type": "code",
      "source": [
        "#Import Pytorch\n",
        "import torch"
      ],
      "metadata": {
        "id": "TByLRJ056PeT"
      },
      "execution_count": 44,
      "outputs": []
    },
    {
      "cell_type": "code",
      "source": [
        "#Element wise multiplication\n",
        "tensor = torch.tensor([10, 20, 30])\n",
        "print(tensor, \"*\", tensor)\n",
        "print(f\"Equals: {tensor * tensor}\")"
      ],
      "metadata": {
        "id": "ZI3OKpikvzBz",
        "colab": {
          "base_uri": "https://localhost:8080/"
        },
        "outputId": "171a2671-9d7c-4d8e-e6e4-dfb02adfdb13"
      },
      "execution_count": 45,
      "outputs": [
        {
          "output_type": "stream",
          "name": "stdout",
          "text": [
            "tensor([10, 20, 30]) * tensor([10, 20, 30])\n",
            "Equals: tensor([100, 400, 900])\n"
          ]
        }
      ]
    },
    {
      "cell_type": "code",
      "source": [
        "# Matrix Multiplication\n",
        "\n",
        "torch.matmul(tensor, tensor)"
      ],
      "metadata": {
        "id": "gofb5z0M8BIm",
        "colab": {
          "base_uri": "https://localhost:8080/"
        },
        "outputId": "5de3dfe6-e0a0-4c7a-85bb-8ef9af0d3f5e"
      },
      "execution_count": 46,
      "outputs": [
        {
          "output_type": "execute_result",
          "data": {
            "text/plain": [
              "tensor(1400)"
            ]
          },
          "metadata": {},
          "execution_count": 46
        }
      ]
    },
    {
      "cell_type": "code",
      "source": [
        "tensor"
      ],
      "metadata": {
        "id": "xVF7qFLf84se",
        "colab": {
          "base_uri": "https://localhost:8080/"
        },
        "outputId": "7acf0e98-0d14-4848-ab14-ec8b8b7859c5"
      },
      "execution_count": 47,
      "outputs": [
        {
          "output_type": "execute_result",
          "data": {
            "text/plain": [
              "tensor([10, 20, 30])"
            ]
          },
          "metadata": {},
          "execution_count": 47
        }
      ]
    },
    {
      "cell_type": "code",
      "source": [
        "# #let's do it by hand\n",
        "10*10 + 20*20 + 30*30"
      ],
      "metadata": {
        "id": "FTlenbD28RKu",
        "colab": {
          "base_uri": "https://localhost:8080/"
        },
        "outputId": "c4ad895f-4286-4ddb-be60-5e5ad2655a2a"
      },
      "execution_count": 48,
      "outputs": [
        {
          "output_type": "execute_result",
          "data": {
            "text/plain": [
              "1400"
            ]
          },
          "metadata": {},
          "execution_count": 48
        }
      ]
    },
    {
      "cell_type": "code",
      "source": [
        "%%time\n",
        "val = 0\n",
        "for i in range(len(tensor)):\n",
        "  val += tensor[i] * tensor[i]\n",
        "print(val)"
      ],
      "metadata": {
        "id": "-us_qPw58vYC",
        "colab": {
          "base_uri": "https://localhost:8080/"
        },
        "outputId": "1adefa7b-1989-4322-a71c-eab127c9eef8"
      },
      "execution_count": 49,
      "outputs": [
        {
          "output_type": "stream",
          "name": "stdout",
          "text": [
            "tensor(1400)\n",
            "CPU times: user 2.16 ms, sys: 0 ns, total: 2.16 ms\n",
            "Wall time: 3.57 ms\n"
          ]
        }
      ]
    },
    {
      "cell_type": "code",
      "source": [
        "%%time\n",
        "torch.matmul(tensor, tensor)"
      ],
      "metadata": {
        "id": "crCe18il9IEQ",
        "colab": {
          "base_uri": "https://localhost:8080/"
        },
        "outputId": "e04180cc-ec8b-4071-f71b-9ef07494924c"
      },
      "execution_count": 50,
      "outputs": [
        {
          "output_type": "stream",
          "name": "stdout",
          "text": [
            "CPU times: user 1.23 ms, sys: 0 ns, total: 1.23 ms\n",
            "Wall time: 1.15 ms\n"
          ]
        },
        {
          "output_type": "execute_result",
          "data": {
            "text/plain": [
              "tensor(1400)"
            ]
          },
          "metadata": {},
          "execution_count": 50
        }
      ]
    },
    {
      "cell_type": "markdown",
      "source": [
        "# Matrix Multiplication PART-2\n",
        "## Two main ways of performing multiplication in neural networks and deep learning:\n",
        "\n",
        "There are two main rules that performing matrix mutliplication needs to satisfy:\n",
        "1. The **inner dimensions** must match:\n",
        "* `(4, 3) @ (4, 3)` won't work\n",
        "* `(3, 4) @ (4, 3)` will work\n",
        "* `(4, 3) @ (3, 4)` will work\n",
        "2. The resulting matrix has the shape of the **outer dimensions**:\n",
        "* `(3, 4) @ (4, 3)` -> `(3, 3)`\n",
        "* `(4, 3) @ (3, 4)` -> `(4, 4)`"
      ],
      "metadata": {
        "id": "GQvWvrjDVXvT"
      }
    },
    {
      "cell_type": "code",
      "source": [
        "mat1 = torch.rand(4,3)\n",
        "print(mat1)"
      ],
      "metadata": {
        "id": "T_C-h6HV9Mqd",
        "colab": {
          "base_uri": "https://localhost:8080/"
        },
        "outputId": "eb68a1b6-7d27-400d-d7d7-81684c1f76f0"
      },
      "execution_count": 51,
      "outputs": [
        {
          "output_type": "stream",
          "name": "stdout",
          "text": [
            "tensor([[0.9466, 0.9981, 0.6670],\n",
            "        [0.0774, 0.9455, 0.3516],\n",
            "        [0.0309, 0.7610, 0.0465],\n",
            "        [0.8770, 0.1508, 0.8680]])\n"
          ]
        }
      ]
    },
    {
      "cell_type": "code",
      "source": [
        "mat2 = torch.rand(3,4)\n",
        "print(mat2)"
      ],
      "metadata": {
        "colab": {
          "base_uri": "https://localhost:8080/"
        },
        "id": "HUPvHPY9WbU6",
        "outputId": "a9e12457-ece9-4c57-9ca9-e41771d8cb3c"
      },
      "execution_count": 52,
      "outputs": [
        {
          "output_type": "stream",
          "name": "stdout",
          "text": [
            "tensor([[0.2689, 0.0745, 0.7951, 0.7135],\n",
            "        [0.0928, 0.1324, 0.1802, 0.8671],\n",
            "        [0.2622, 0.0775, 0.3442, 0.4048]])\n"
          ]
        }
      ]
    },
    {
      "cell_type": "code",
      "source": [
        "torch.matmul(mat1,mat2)"
      ],
      "metadata": {
        "colab": {
          "base_uri": "https://localhost:8080/"
        },
        "id": "HStNSTMuWjSH",
        "outputId": "381988dd-a821-41a4-e2c5-99f9d7242aee"
      },
      "execution_count": 53,
      "outputs": [
        {
          "output_type": "execute_result",
          "data": {
            "text/plain": [
              "tensor([[0.5221, 0.2543, 1.1621, 1.8110],\n",
              "        [0.2007, 0.1581, 0.3530, 1.0174],\n",
              "        [0.0911, 0.1066, 0.1777, 0.7008],\n",
              "        [0.4774, 0.1525, 1.0232, 1.1079]])"
            ]
          },
          "metadata": {},
          "execution_count": 53
        }
      ]
    },
    {
      "cell_type": "markdown",
      "source": [
        "# Matrix Multiplication PART-3\n",
        "## Dealing with matrix shape errors"
      ],
      "metadata": {
        "id": "3GPDjU0W0Vqu"
      }
    },
    {
      "cell_type": "code",
      "source": [
        "tensor_A = torch.tensor([[1, 2],\n",
        "                         [3, 4],\n",
        "                         [5, 6]])\n",
        "\n",
        "tensor_B = torch.tensor([[7, 10],\n",
        "                         [8, 11],\n",
        "                         [9, 12]])\n",
        "\n",
        "torch.matmul(tensor_A, tensor_B)"
      ],
      "metadata": {
        "id": "RaGJnxPzWnLH",
        "colab": {
          "base_uri": "https://localhost:8080/",
          "height": 183
        },
        "outputId": "b78b8473-4a08-4a10-e152-ba915e96ce26"
      },
      "execution_count": 55,
      "outputs": [
        {
          "output_type": "error",
          "ename": "RuntimeError",
          "evalue": "mat1 and mat2 shapes cannot be multiplied (3x2 and 3x2)",
          "traceback": [
            "\u001b[0;31m---------------------------------------------------------------------------\u001b[0m",
            "\u001b[0;31mRuntimeError\u001b[0m                              Traceback (most recent call last)",
            "\u001b[0;32m<ipython-input-55-1aefb3261978>\u001b[0m in \u001b[0;36m<cell line: 9>\u001b[0;34m()\u001b[0m\n\u001b[1;32m      7\u001b[0m                          [9, 12]])\n\u001b[1;32m      8\u001b[0m \u001b[0;34m\u001b[0m\u001b[0m\n\u001b[0;32m----> 9\u001b[0;31m \u001b[0mtorch\u001b[0m\u001b[0;34m.\u001b[0m\u001b[0mmatmul\u001b[0m\u001b[0;34m(\u001b[0m\u001b[0mtensor_A\u001b[0m\u001b[0;34m,\u001b[0m \u001b[0mtensor_B\u001b[0m\u001b[0;34m)\u001b[0m\u001b[0;34m\u001b[0m\u001b[0;34m\u001b[0m\u001b[0m\n\u001b[0m",
            "\u001b[0;31mRuntimeError\u001b[0m: mat1 and mat2 shapes cannot be multiplied (3x2 and 3x2)"
          ]
        }
      ]
    },
    {
      "cell_type": "code",
      "source": [
        "tensor_A.shape, tensor_B.shape"
      ],
      "metadata": {
        "colab": {
          "base_uri": "https://localhost:8080/"
        },
        "id": "9Ih5pxdr2pv6",
        "outputId": "c535bb6e-6c1b-41f5-8d38-2d51cf21e1e3"
      },
      "execution_count": 56,
      "outputs": [
        {
          "output_type": "execute_result",
          "data": {
            "text/plain": [
              "(torch.Size([3, 2]), torch.Size([3, 2]))"
            ]
          },
          "metadata": {},
          "execution_count": 56
        }
      ]
    },
    {
      "cell_type": "code",
      "source": [
        " tensor_B, tensor_B.shape"
      ],
      "metadata": {
        "colab": {
          "base_uri": "https://localhost:8080/"
        },
        "id": "2saMP5v-2_OT",
        "outputId": "cb41a0b4-c279-4735-b242-368a4552d285"
      },
      "execution_count": 58,
      "outputs": [
        {
          "output_type": "execute_result",
          "data": {
            "text/plain": [
              "(tensor([[ 7, 10],\n",
              "         [ 8, 11],\n",
              "         [ 9, 12]]),\n",
              " torch.Size([3, 2]))"
            ]
          },
          "metadata": {},
          "execution_count": 58
        }
      ]
    },
    {
      "cell_type": "code",
      "source": [
        "tensor_B.T, tensor_B.T.shape"
      ],
      "metadata": {
        "colab": {
          "base_uri": "https://localhost:8080/"
        },
        "id": "cx8YCgkg3Lev",
        "outputId": "45666aef-9fc9-4c41-d3fa-a2afb10f7f89"
      },
      "execution_count": 60,
      "outputs": [
        {
          "output_type": "execute_result",
          "data": {
            "text/plain": [
              "(tensor([[ 7,  8,  9],\n",
              "         [10, 11, 12]]),\n",
              " torch.Size([2, 3]))"
            ]
          },
          "metadata": {},
          "execution_count": 60
        }
      ]
    },
    {
      "cell_type": "code",
      "source": [
        "torch.matmul(tensor_A, tensor_B.T)"
      ],
      "metadata": {
        "colab": {
          "base_uri": "https://localhost:8080/"
        },
        "id": "r_Sv_npj3XlJ",
        "outputId": "49e3689d-905f-46d2-af83-b6b76a3bb629"
      },
      "execution_count": 61,
      "outputs": [
        {
          "output_type": "execute_result",
          "data": {
            "text/plain": [
              "tensor([[ 27,  30,  33],\n",
              "        [ 61,  68,  75],\n",
              "        [ 95, 106, 117]])"
            ]
          },
          "metadata": {},
          "execution_count": 61
        }
      ]
    },
    {
      "cell_type": "code",
      "source": [],
      "metadata": {
        "id": "HI99Eh5G3r_5"
      },
      "execution_count": null,
      "outputs": []
    }
  ]
}