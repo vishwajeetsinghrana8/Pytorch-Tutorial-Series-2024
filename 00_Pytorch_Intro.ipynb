{
  "nbformat": 4,
  "nbformat_minor": 0,
  "metadata": {
    "colab": {
      "provenance": []
    },
    "kernelspec": {
      "name": "python3",
      "display_name": "Python 3"
    },
    "language_info": {
      "name": "python"
    }
  },
  "cells": [
    {
      "cell_type": "markdown",
      "source": [
        "## 1# Pytorch Fundamentals"
      ],
      "metadata": {
        "id": "Qg-1Ne4MnUBz"
      }
    },
    {
      "cell_type": "code",
      "execution_count": null,
      "metadata": {
        "id": "4QeYuNuonFKh"
      },
      "outputs": [],
      "source": [
        "import torch\n",
        "import pandas as pd\n",
        "import numpy as np\n",
        "import matplotlib.pyplot as plt"
      ]
    },
    {
      "cell_type": "code",
      "source": [
        "print(torch.__version__)"
      ],
      "metadata": {
        "colab": {
          "base_uri": "https://localhost:8080/"
        },
        "id": "-XKyCGrdny7j",
        "outputId": "6e7adce9-e046-4a12-8247-f20f63c055d1"
      },
      "execution_count": null,
      "outputs": [
        {
          "output_type": "stream",
          "name": "stdout",
          "text": [
            "2.2.1+cu121\n"
          ]
        }
      ]
    },
    {
      "cell_type": "markdown",
      "source": [
        "## Creating Tensors"
      ],
      "metadata": {
        "id": "ktq4Kc411YgS"
      }
    },
    {
      "cell_type": "code",
      "source": [
        "## Scalers\n",
        "\n",
        "s1 = torch.tensor(10)\n",
        "print(s1)"
      ],
      "metadata": {
        "id": "osZJrp3don68",
        "colab": {
          "base_uri": "https://localhost:8080/"
        },
        "outputId": "d54aa419-ce0f-40b3-d2fe-97e56220ad4f"
      },
      "execution_count": null,
      "outputs": [
        {
          "output_type": "stream",
          "name": "stdout",
          "text": [
            "tensor(10)\n"
          ]
        }
      ]
    },
    {
      "cell_type": "code",
      "source": [
        "s1.ndim"
      ],
      "metadata": {
        "colab": {
          "base_uri": "https://localhost:8080/"
        },
        "id": "l5m-OvBC1jfb",
        "outputId": "8c4534d5-9951-4fbc-9228-aa2934ef15fd"
      },
      "execution_count": null,
      "outputs": [
        {
          "output_type": "execute_result",
          "data": {
            "text/plain": [
              "0"
            ]
          },
          "metadata": {},
          "execution_count": 4
        }
      ]
    },
    {
      "cell_type": "code",
      "source": [
        "## Get number back as Python int\n",
        "s1.item()"
      ],
      "metadata": {
        "colab": {
          "base_uri": "https://localhost:8080/"
        },
        "id": "qFxQENjh2FGo",
        "outputId": "6b97add3-3cf2-4298-eea7-7e0ce093de27"
      },
      "execution_count": null,
      "outputs": [
        {
          "output_type": "execute_result",
          "data": {
            "text/plain": [
              "10"
            ]
          },
          "metadata": {},
          "execution_count": 5
        }
      ]
    },
    {
      "cell_type": "code",
      "source": [
        "## Vector\n",
        "\n",
        "v1 = torch.tensor([5, 5])\n",
        "v1"
      ],
      "metadata": {
        "colab": {
          "base_uri": "https://localhost:8080/"
        },
        "id": "fftgf0Ui2hT5",
        "outputId": "f0405cc7-a1fc-4b6f-e13a-e75d878b62c7"
      },
      "execution_count": null,
      "outputs": [
        {
          "output_type": "execute_result",
          "data": {
            "text/plain": [
              "tensor([5, 5])"
            ]
          },
          "metadata": {},
          "execution_count": 6
        }
      ]
    },
    {
      "cell_type": "code",
      "source": [
        "v1.ndim"
      ],
      "metadata": {
        "colab": {
          "base_uri": "https://localhost:8080/"
        },
        "id": "0B_m0q3w228V",
        "outputId": "40419822-3a28-4d23-8b73-4e498ee2a983"
      },
      "execution_count": null,
      "outputs": [
        {
          "output_type": "execute_result",
          "data": {
            "text/plain": [
              "1"
            ]
          },
          "metadata": {},
          "execution_count": 7
        }
      ]
    },
    {
      "cell_type": "code",
      "source": [
        "v1.shape"
      ],
      "metadata": {
        "colab": {
          "base_uri": "https://localhost:8080/"
        },
        "id": "ijODxaAa24Wz",
        "outputId": "53de8cc0-620d-49e2-a1ed-17820985571c"
      },
      "execution_count": null,
      "outputs": [
        {
          "output_type": "execute_result",
          "data": {
            "text/plain": [
              "torch.Size([2])"
            ]
          },
          "metadata": {},
          "execution_count": 8
        }
      ]
    },
    {
      "cell_type": "code",
      "source": [
        "## Matrix\n",
        "M1 = torch.tensor([[7,8],\n",
        "                   [9,10]])\n",
        "\n",
        "M1"
      ],
      "metadata": {
        "colab": {
          "base_uri": "https://localhost:8080/"
        },
        "id": "ZCrT1u713Hav",
        "outputId": "87f658ea-4386-4079-a458-c4d2af1515a0"
      },
      "execution_count": null,
      "outputs": [
        {
          "output_type": "execute_result",
          "data": {
            "text/plain": [
              "tensor([[ 7,  8],\n",
              "        [ 9, 10]])"
            ]
          },
          "metadata": {},
          "execution_count": 9
        }
      ]
    },
    {
      "cell_type": "code",
      "source": [
        "M1.ndim"
      ],
      "metadata": {
        "colab": {
          "base_uri": "https://localhost:8080/"
        },
        "id": "XJQ7l6Cz3WOY",
        "outputId": "c1257b32-cf71-4174-fa85-4b067def412c"
      },
      "execution_count": null,
      "outputs": [
        {
          "output_type": "execute_result",
          "data": {
            "text/plain": [
              "2"
            ]
          },
          "metadata": {},
          "execution_count": 10
        }
      ]
    },
    {
      "cell_type": "code",
      "source": [
        "M1[1]"
      ],
      "metadata": {
        "colab": {
          "base_uri": "https://localhost:8080/"
        },
        "id": "efDCj0uX3f7P",
        "outputId": "3468e822-a4d4-4328-feb6-c23513c70c23"
      },
      "execution_count": null,
      "outputs": [
        {
          "output_type": "execute_result",
          "data": {
            "text/plain": [
              "tensor([ 9, 10])"
            ]
          },
          "metadata": {},
          "execution_count": 11
        }
      ]
    },
    {
      "cell_type": "code",
      "source": [
        "M1.shape"
      ],
      "metadata": {
        "colab": {
          "base_uri": "https://localhost:8080/"
        },
        "id": "vMqz7bgn3k5B",
        "outputId": "898aa3ed-b1b8-41da-f537-b24a4ffa2a2e"
      },
      "execution_count": null,
      "outputs": [
        {
          "output_type": "execute_result",
          "data": {
            "text/plain": [
              "torch.Size([2, 2])"
            ]
          },
          "metadata": {},
          "execution_count": 12
        }
      ]
    },
    {
      "cell_type": "code",
      "source": [
        "## Tensor\n",
        "T1 = torch.tensor([[[1,2,3],\n",
        "                    [3,6,9],\n",
        "                    [2,5,8]]])\n",
        "T1"
      ],
      "metadata": {
        "colab": {
          "base_uri": "https://localhost:8080/"
        },
        "id": "ZRrw3ZWx3nrX",
        "outputId": "202a4346-0c25-4855-f416-6b85a71ba5fa"
      },
      "execution_count": null,
      "outputs": [
        {
          "output_type": "execute_result",
          "data": {
            "text/plain": [
              "tensor([[[1, 2, 3],\n",
              "         [3, 6, 9],\n",
              "         [2, 5, 8]]])"
            ]
          },
          "metadata": {},
          "execution_count": 13
        }
      ]
    },
    {
      "cell_type": "code",
      "source": [
        "T1.ndim"
      ],
      "metadata": {
        "colab": {
          "base_uri": "https://localhost:8080/"
        },
        "id": "DBMLvxK44I7K",
        "outputId": "7b49702f-5d0f-463d-d32a-9112a8a98080"
      },
      "execution_count": null,
      "outputs": [
        {
          "output_type": "execute_result",
          "data": {
            "text/plain": [
              "3"
            ]
          },
          "metadata": {},
          "execution_count": 14
        }
      ]
    },
    {
      "cell_type": "code",
      "source": [
        "T1.shape"
      ],
      "metadata": {
        "colab": {
          "base_uri": "https://localhost:8080/"
        },
        "id": "a4txnSZM4Knn",
        "outputId": "57d35040-f883-45ee-9e36-d62ba9972c4f"
      },
      "execution_count": null,
      "outputs": [
        {
          "output_type": "execute_result",
          "data": {
            "text/plain": [
              "torch.Size([1, 3, 3])"
            ]
          },
          "metadata": {},
          "execution_count": 15
        }
      ]
    },
    {
      "cell_type": "code",
      "source": [
        "T1[0]"
      ],
      "metadata": {
        "colab": {
          "base_uri": "https://localhost:8080/"
        },
        "id": "y90x89M94QtH",
        "outputId": "38b75898-25a2-48d2-ba72-b2c2c139fc82"
      },
      "execution_count": null,
      "outputs": [
        {
          "output_type": "execute_result",
          "data": {
            "text/plain": [
              "tensor([[1, 2, 3],\n",
              "        [3, 6, 9],\n",
              "        [2, 5, 8]])"
            ]
          },
          "metadata": {},
          "execution_count": 16
        }
      ]
    },
    {
      "cell_type": "markdown",
      "source": [
        "# 2# Creating Random Tensors in PyTorch\n",
        "\n",
        "\n"
      ],
      "metadata": {
        "id": "nGAZMELV5HL7"
      }
    },
    {
      "cell_type": "code",
      "source": [
        "randTensor1 = torch.rand(3,4)\n",
        "randTensor1"
      ],
      "metadata": {
        "colab": {
          "base_uri": "https://localhost:8080/"
        },
        "id": "MAgOgo8d5KJl",
        "outputId": "a206284e-a66e-4684-b2dd-f7fd332e1b81"
      },
      "execution_count": null,
      "outputs": [
        {
          "output_type": "execute_result",
          "data": {
            "text/plain": [
              "tensor([[0.1451, 0.2902, 0.8625, 0.2323],\n",
              "        [0.1560, 0.1644, 0.1213, 0.4316],\n",
              "        [0.4202, 0.8006, 0.4501, 0.0207]])"
            ]
          },
          "metadata": {},
          "execution_count": 17
        }
      ]
    },
    {
      "cell_type": "code",
      "source": [
        "randTensor1.ndim"
      ],
      "metadata": {
        "colab": {
          "base_uri": "https://localhost:8080/"
        },
        "id": "5vS6c0zU6bP-",
        "outputId": "94a8b68f-600f-4e9d-fc80-a4384861ca57"
      },
      "execution_count": null,
      "outputs": [
        {
          "output_type": "execute_result",
          "data": {
            "text/plain": [
              "2"
            ]
          },
          "metadata": {},
          "execution_count": 18
        }
      ]
    },
    {
      "cell_type": "code",
      "source": [
        "randTensor2 = torch.rand(1,3,3)\n",
        "randTensor2"
      ],
      "metadata": {
        "colab": {
          "base_uri": "https://localhost:8080/"
        },
        "id": "C_ieRYxU6hux",
        "outputId": "2fe8ee00-94b0-477d-dab8-0c7471775da8"
      },
      "execution_count": null,
      "outputs": [
        {
          "output_type": "execute_result",
          "data": {
            "text/plain": [
              "tensor([[[0.2066, 0.5904, 0.7620],\n",
              "         [0.3598, 0.8179, 0.1525],\n",
              "         [0.2068, 0.6249, 0.1393]]])"
            ]
          },
          "metadata": {},
          "execution_count": 19
        }
      ]
    },
    {
      "cell_type": "code",
      "source": [
        "randTensor2.ndim"
      ],
      "metadata": {
        "colab": {
          "base_uri": "https://localhost:8080/"
        },
        "id": "5Y64c4db6ymn",
        "outputId": "43f296cd-21fd-41f8-bde4-0eaff416d980"
      },
      "execution_count": null,
      "outputs": [
        {
          "output_type": "execute_result",
          "data": {
            "text/plain": [
              "3"
            ]
          },
          "metadata": {},
          "execution_count": 20
        }
      ]
    },
    {
      "cell_type": "code",
      "source": [
        "## Create a random tensor similar to image shape\n",
        "\n",
        "image_tensor = torch.rand(size=(512,512,3))\n",
        "image_tensor\n",
        "image_tensor.shape, image_tensor.ndim"
      ],
      "metadata": {
        "colab": {
          "base_uri": "https://localhost:8080/"
        },
        "id": "8ZMNquwv61AM",
        "outputId": "6149fa10-c8fb-482e-b519-8831759518a8"
      },
      "execution_count": null,
      "outputs": [
        {
          "output_type": "execute_result",
          "data": {
            "text/plain": [
              "(torch.Size([512, 512, 3]), 3)"
            ]
          },
          "metadata": {},
          "execution_count": 21
        }
      ]
    },
    {
      "cell_type": "markdown",
      "source": [
        "# Creating Tensors With Zeros and Ones in PyTorch"
      ],
      "metadata": {
        "id": "n_-VHA_B8VIk"
      }
    },
    {
      "cell_type": "code",
      "source": [
        "# Create a tensor of all zeros\n",
        "zeros = torch.zeros([3,4])\n",
        "zeros"
      ],
      "metadata": {
        "colab": {
          "base_uri": "https://localhost:8080/"
        },
        "id": "NRczSHKn7nMj",
        "outputId": "88127d1e-e881-4ce6-a511-5b9e264ac899"
      },
      "execution_count": null,
      "outputs": [
        {
          "output_type": "execute_result",
          "data": {
            "text/plain": [
              "tensor([[0., 0., 0., 0.],\n",
              "        [0., 0., 0., 0.],\n",
              "        [0., 0., 0., 0.]])"
            ]
          },
          "metadata": {},
          "execution_count": 22
        }
      ]
    },
    {
      "cell_type": "code",
      "source": [
        "zeros * randTensor1"
      ],
      "metadata": {
        "colab": {
          "base_uri": "https://localhost:8080/"
        },
        "id": "cvvXEp1N80aQ",
        "outputId": "fed016b1-78d8-42ad-a916-5ad0e1368f8f"
      },
      "execution_count": null,
      "outputs": [
        {
          "output_type": "execute_result",
          "data": {
            "text/plain": [
              "tensor([[0., 0., 0., 0.],\n",
              "        [0., 0., 0., 0.],\n",
              "        [0., 0., 0., 0.]])"
            ]
          },
          "metadata": {},
          "execution_count": 23
        }
      ]
    },
    {
      "cell_type": "code",
      "source": [
        "# Create a tensor of all Ones\n",
        "\n",
        "ones = torch.ones([3,4])\n",
        "ones"
      ],
      "metadata": {
        "colab": {
          "base_uri": "https://localhost:8080/"
        },
        "id": "SO3NYkg986NH",
        "outputId": "fa0b666a-6790-4bc3-868f-080316efd644"
      },
      "execution_count": null,
      "outputs": [
        {
          "output_type": "execute_result",
          "data": {
            "text/plain": [
              "tensor([[1., 1., 1., 1.],\n",
              "        [1., 1., 1., 1.],\n",
              "        [1., 1., 1., 1.]])"
            ]
          },
          "metadata": {},
          "execution_count": 24
        }
      ]
    },
    {
      "cell_type": "code",
      "source": [
        "## Default datatype of pytorch tensor\n",
        "ones.dtype"
      ],
      "metadata": {
        "colab": {
          "base_uri": "https://localhost:8080/"
        },
        "id": "nLWVLIvq_TtJ",
        "outputId": "5f3d021d-2caf-4efe-9087-dffc13699a42"
      },
      "execution_count": null,
      "outputs": [
        {
          "output_type": "execute_result",
          "data": {
            "text/plain": [
              "torch.float32"
            ]
          },
          "metadata": {},
          "execution_count": 25
        }
      ]
    },
    {
      "cell_type": "code",
      "source": [
        "randTensor1.dtype"
      ],
      "metadata": {
        "colab": {
          "base_uri": "https://localhost:8080/"
        },
        "id": "iIGyWqp1_W7O",
        "outputId": "960d6484-00cc-43bf-cc7f-e904313e3952"
      },
      "execution_count": null,
      "outputs": [
        {
          "output_type": "execute_result",
          "data": {
            "text/plain": [
              "torch.float32"
            ]
          },
          "metadata": {},
          "execution_count": 26
        }
      ]
    },
    {
      "cell_type": "markdown",
      "source": [
        "# Creating a Tensor Range and Tensors Like Other Tensors"
      ],
      "metadata": {
        "id": "LH-i162AQF_K"
      }
    },
    {
      "cell_type": "code",
      "source": [
        "## Use tourch.arange\n",
        "\n",
        "one_to_zero = torch.arange(start=0, end=10)\n",
        "one_to_zero"
      ],
      "metadata": {
        "id": "bVJgkqJQ_ZtP",
        "colab": {
          "base_uri": "https://localhost:8080/"
        },
        "outputId": "e41455f7-0029-49ad-bb46-8f13094f46a9"
      },
      "execution_count": null,
      "outputs": [
        {
          "output_type": "execute_result",
          "data": {
            "text/plain": [
              "tensor([0, 1, 2, 3, 4, 5, 6, 7, 8, 9])"
            ]
          },
          "metadata": {},
          "execution_count": 27
        }
      ]
    },
    {
      "cell_type": "code",
      "source": [
        "## Creating tensors like\n",
        "\n",
        "ten_zeros = torch.zeros_like(input=one_to_zero)\n",
        "ten_zeros"
      ],
      "metadata": {
        "colab": {
          "base_uri": "https://localhost:8080/"
        },
        "id": "A0217FYXQkSz",
        "outputId": "e187821f-e77b-4aba-99b2-245c43557ba9"
      },
      "execution_count": null,
      "outputs": [
        {
          "output_type": "execute_result",
          "data": {
            "text/plain": [
              "tensor([0, 0, 0, 0, 0, 0, 0, 0, 0, 0])"
            ]
          },
          "metadata": {},
          "execution_count": 28
        }
      ]
    },
    {
      "cell_type": "markdown",
      "source": [
        "# Dealing With Tensor Data Types"
      ],
      "metadata": {
        "id": "aLopExiGRE27"
      }
    },
    {
      "cell_type": "code",
      "source": [
        "# Float 32-bit Tensor\n",
        "float_32_tensor = torch.tensor([3.0, 5.0, 7.0],\n",
        "                               dtype=None)\n",
        "\n",
        "float_32_tensor"
      ],
      "metadata": {
        "id": "2dMsGNfBQ8UQ",
        "colab": {
          "base_uri": "https://localhost:8080/"
        },
        "outputId": "0f361266-a31f-45c0-b274-ed8e12a0a382"
      },
      "execution_count": null,
      "outputs": [
        {
          "output_type": "execute_result",
          "data": {
            "text/plain": [
              "tensor([3., 5., 7.])"
            ]
          },
          "metadata": {},
          "execution_count": 29
        }
      ]
    },
    {
      "cell_type": "code",
      "source": [
        "float_32_tensor.dtype"
      ],
      "metadata": {
        "colab": {
          "base_uri": "https://localhost:8080/"
        },
        "id": "wfrY3I50eu2G",
        "outputId": "c32ace06-298d-482d-a8a6-3531b5796fdf"
      },
      "execution_count": null,
      "outputs": [
        {
          "output_type": "execute_result",
          "data": {
            "text/plain": [
              "torch.float32"
            ]
          },
          "metadata": {},
          "execution_count": 30
        }
      ]
    },
    {
      "cell_type": "code",
      "source": [
        "float_16_tensor = torch.tensor([3.0, 5.0, 7.0],\n",
        "                               dtype=torch.float16)\n",
        "\n",
        "float_16_tensor"
      ],
      "metadata": {
        "colab": {
          "base_uri": "https://localhost:8080/"
        },
        "id": "HWgXk-h8e0w4",
        "outputId": "bb857312-7e0c-4ace-c326-ca1712082f78"
      },
      "execution_count": null,
      "outputs": [
        {
          "output_type": "execute_result",
          "data": {
            "text/plain": [
              "tensor([3., 5., 7.], dtype=torch.float16)"
            ]
          },
          "metadata": {},
          "execution_count": 31
        }
      ]
    },
    {
      "cell_type": "code",
      "source": [
        "float_32_tensor = torch.tensor([3.0, 5.0, 7.0],\n",
        "                               dtype=None,\n",
        "                               device=\"cpu\",\n",
        "                               requires_grad=False)\n",
        "\n",
        "float_32_tensor.dtype"
      ],
      "metadata": {
        "colab": {
          "base_uri": "https://localhost:8080/"
        },
        "id": "jUwjOk_ofJl8",
        "outputId": "e246b863-00ff-4432-b622-d8902c49e33f"
      },
      "execution_count": null,
      "outputs": [
        {
          "output_type": "execute_result",
          "data": {
            "text/plain": [
              "torch.float32"
            ]
          },
          "metadata": {},
          "execution_count": 32
        }
      ]
    },
    {
      "cell_type": "code",
      "source": [
        "float_16_tensor = float_32_tensor.type(torch.float16)\n",
        "float_16_tensor"
      ],
      "metadata": {
        "colab": {
          "base_uri": "https://localhost:8080/"
        },
        "id": "tkFaaKk5fmFG",
        "outputId": "d143207f-537c-48b3-8e34-e6841eff5401"
      },
      "execution_count": null,
      "outputs": [
        {
          "output_type": "execute_result",
          "data": {
            "text/plain": [
              "tensor([3., 5., 7.], dtype=torch.float16)"
            ]
          },
          "metadata": {},
          "execution_count": 33
        }
      ]
    },
    {
      "cell_type": "code",
      "source": [
        "float_16_tensor * float_32_tensor"
      ],
      "metadata": {
        "colab": {
          "base_uri": "https://localhost:8080/"
        },
        "id": "H2DtcoKef7YT",
        "outputId": "25dc5d7a-b70f-4c6d-c255-8ff1251eb421"
      },
      "execution_count": null,
      "outputs": [
        {
          "output_type": "execute_result",
          "data": {
            "text/plain": [
              "tensor([ 9., 25., 49.])"
            ]
          },
          "metadata": {},
          "execution_count": 34
        }
      ]
    },
    {
      "cell_type": "code",
      "source": [
        "int_32_tensor = torch.tensor([3, 5, 7], dtype=torch.int32)\n",
        "int_32_tensor"
      ],
      "metadata": {
        "colab": {
          "base_uri": "https://localhost:8080/"
        },
        "id": "nzkSIIkXgGvK",
        "outputId": "880dd301-c2b8-4779-86eb-e47410a94e77"
      },
      "execution_count": null,
      "outputs": [
        {
          "output_type": "execute_result",
          "data": {
            "text/plain": [
              "tensor([3, 5, 7], dtype=torch.int32)"
            ]
          },
          "metadata": {},
          "execution_count": 35
        }
      ]
    },
    {
      "cell_type": "code",
      "source": [
        "float_32_tensor * int_32_tensor"
      ],
      "metadata": {
        "colab": {
          "base_uri": "https://localhost:8080/"
        },
        "id": "nLEKk1t6ga5h",
        "outputId": "e7cf8c6e-6c61-4e35-b4a0-c1eec8bd8231"
      },
      "execution_count": null,
      "outputs": [
        {
          "output_type": "execute_result",
          "data": {
            "text/plain": [
              "tensor([ 9., 25., 49.])"
            ]
          },
          "metadata": {},
          "execution_count": 36
        }
      ]
    },
    {
      "cell_type": "code",
      "source": [
        "(float_32_tensor * int_32_tensor).dtype"
      ],
      "metadata": {
        "colab": {
          "base_uri": "https://localhost:8080/"
        },
        "id": "IeUOYT35gkIA",
        "outputId": "444c8bfa-62e8-4f26-e5ea-d8f5a5381ada"
      },
      "execution_count": null,
      "outputs": [
        {
          "output_type": "execute_result",
          "data": {
            "text/plain": [
              "torch.float32"
            ]
          },
          "metadata": {},
          "execution_count": 37
        }
      ]
    },
    {
      "cell_type": "markdown",
      "source": [
        "# Getting information from tensors\n",
        "1. Tensors not right datatype - to get datatypes from tensor, can use `tensor.dtype`.\n",
        "2. Tensors not right shape - to get shape a tensor, can use `tensor.shape`.\n",
        "3. Tensor not on the right device - to get devices from a tensor, can use `tensor.device`."
      ],
      "metadata": {
        "id": "0CAyhG_lbqYR"
      }
    },
    {
      "cell_type": "code",
      "source": [
        "rand_tensor = torch.rand(3,4)\n",
        "rand_tensor"
      ],
      "metadata": {
        "colab": {
          "base_uri": "https://localhost:8080/"
        },
        "id": "nJXylZRWgr2o",
        "outputId": "f947e8a2-6319-4bac-ae08-589d6d9eaed8"
      },
      "execution_count": null,
      "outputs": [
        {
          "output_type": "execute_result",
          "data": {
            "text/plain": [
              "tensor([[0.2450, 0.0439, 0.6533, 0.6983],\n",
              "        [0.8119, 0.2215, 0.6241, 0.3484],\n",
              "        [0.5524, 0.5265, 0.3085, 0.2475]])"
            ]
          },
          "metadata": {},
          "execution_count": 38
        }
      ]
    },
    {
      "cell_type": "code",
      "source": [
        "print(rand_tensor)\n",
        "print(f\"Datatype of tensor: {rand_tensor.dtype}\")\n",
        "print(f\"Shape of tensor: {rand_tensor.shape}\")\n",
        "print(f\"Device tensor is on: {rand_tensor.device}\")"
      ],
      "metadata": {
        "colab": {
          "base_uri": "https://localhost:8080/"
        },
        "id": "Oh6h71xFcyew",
        "outputId": "4f7e4a35-8b0f-4673-df88-cdbc0eca3c72"
      },
      "execution_count": null,
      "outputs": [
        {
          "output_type": "stream",
          "name": "stdout",
          "text": [
            "tensor([[0.2450, 0.0439, 0.6533, 0.6983],\n",
            "        [0.8119, 0.2215, 0.6241, 0.3484],\n",
            "        [0.5524, 0.5265, 0.3085, 0.2475]])\n",
            "Datatype of tensor: torch.float32\n",
            "Shape of tensor: torch.Size([3, 4])\n",
            "Device tensor is on: cpu\n"
          ]
        }
      ]
    },
    {
      "cell_type": "markdown",
      "source": [
        "# Math Operations with Tensors\n",
        "\n",
        "**Tensor operations include:**\n",
        "- Addition\n",
        "- Subtraction\n",
        "- Multiplication (Element-wise)\n",
        "- Division\n",
        "- Matrix Multiplication"
      ],
      "metadata": {
        "id": "ouGrin0_trKt"
      }
    },
    {
      "cell_type": "code",
      "source": [
        "#Create a tensor\n",
        "tensor = torch.tensor([10, 20, 30])\n",
        "tensor"
      ],
      "metadata": {
        "id": "7cPG5e04dcQk",
        "colab": {
          "base_uri": "https://localhost:8080/"
        },
        "outputId": "a3236190-8844-498a-b973-b8cc772d8843"
      },
      "execution_count": null,
      "outputs": [
        {
          "output_type": "execute_result",
          "data": {
            "text/plain": [
              "tensor([10, 20, 30])"
            ]
          },
          "metadata": {},
          "execution_count": 40
        }
      ]
    },
    {
      "cell_type": "code",
      "source": [
        "#Addition\n",
        "print(tensor + 10)\n",
        "print(torch.add(tensor, 20))"
      ],
      "metadata": {
        "colab": {
          "base_uri": "https://localhost:8080/"
        },
        "id": "Eaw3sfIluvct",
        "outputId": "e447c136-d52c-41a8-83a7-07f2757fbf6b"
      },
      "execution_count": null,
      "outputs": [
        {
          "output_type": "stream",
          "name": "stdout",
          "text": [
            "tensor([20, 30, 40])\n",
            "tensor([30, 40, 50])\n"
          ]
        }
      ]
    },
    {
      "cell_type": "code",
      "source": [
        "#Multiplication\n",
        "print(tensor * 10)\n",
        "print(torch.mul(tensor, 10))"
      ],
      "metadata": {
        "colab": {
          "base_uri": "https://localhost:8080/"
        },
        "id": "MIvxg-ORu7u8",
        "outputId": "452a1440-d491-4094-de21-7e47cf71a4aa"
      },
      "execution_count": null,
      "outputs": [
        {
          "output_type": "stream",
          "name": "stdout",
          "text": [
            "tensor([100, 200, 300])\n",
            "tensor([100, 200, 300])\n"
          ]
        }
      ]
    },
    {
      "cell_type": "code",
      "source": [
        "print(tensor/2)\n",
        "print(torch.divide(tensor, 2))"
      ],
      "metadata": {
        "colab": {
          "base_uri": "https://localhost:8080/"
        },
        "id": "K2L6NNj9vO_3",
        "outputId": "a87f19e4-01ef-4050-d812-4cf202d1f91a"
      },
      "execution_count": null,
      "outputs": [
        {
          "output_type": "stream",
          "name": "stdout",
          "text": [
            "tensor([ 5., 10., 15.])\n",
            "tensor([ 5., 10., 15.])\n"
          ]
        }
      ]
    },
    {
      "cell_type": "code",
      "source": [],
      "metadata": {
        "id": "ZI3OKpikvzBz"
      },
      "execution_count": null,
      "outputs": []
    }
  ]
}