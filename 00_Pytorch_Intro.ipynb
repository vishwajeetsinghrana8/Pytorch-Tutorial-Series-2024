{
 "cells": [
  {
   "cell_type": "markdown",
   "metadata": {
    "id": "Qg-1Ne4MnUBz"
   },
   "source": [
    "## 1# Pytorch Fundamentals"
   ]
  },
  {
   "cell_type": "code",
   "execution_count": 1,
   "metadata": {
    "id": "4QeYuNuonFKh"
   },
   "outputs": [],
   "source": [
    "import torch\n",
    "import pandas as pd\n",
    "import numpy as np\n",
    "import matplotlib.pyplot as plt"
   ]
  },
  {
   "cell_type": "code",
   "execution_count": 2,
   "metadata": {
    "colab": {
     "base_uri": "https://localhost:8080/"
    },
    "id": "-XKyCGrdny7j",
    "outputId": "9e5dbacd-1ef5-4dbc-feb5-cb1816f05a78"
   },
   "outputs": [
    {
     "name": "stdout",
     "output_type": "stream",
     "text": [
      "2.1.0+cu118\n"
     ]
    }
   ],
   "source": [
    "print(torch.__version__)"
   ]
  },
  {
   "cell_type": "markdown",
   "metadata": {
    "id": "ktq4Kc411YgS"
   },
   "source": [
    "## Creating Tensors"
   ]
  },
  {
   "cell_type": "code",
   "execution_count": 3,
   "metadata": {
    "colab": {
     "base_uri": "https://localhost:8080/"
    },
    "id": "osZJrp3don68",
    "outputId": "aa6b40f9-ac29-42a9-8879-8f1aae13b864"
   },
   "outputs": [
    {
     "name": "stdout",
     "output_type": "stream",
     "text": [
      "tensor(10)\n"
     ]
    }
   ],
   "source": [
    "## Scalers\n",
    "\n",
    "s1 = torch.tensor(10)\n",
    "print(s1)"
   ]
  },
  {
   "cell_type": "code",
   "execution_count": 4,
   "metadata": {
    "colab": {
     "base_uri": "https://localhost:8080/"
    },
    "id": "l5m-OvBC1jfb",
    "outputId": "d6a41287-b6a1-43b5-b075-a5684843d6e9"
   },
   "outputs": [
    {
     "data": {
      "text/plain": [
       "0"
      ]
     },
     "execution_count": 4,
     "metadata": {},
     "output_type": "execute_result"
    }
   ],
   "source": [
    "s1.ndim"
   ]
  },
  {
   "cell_type": "code",
   "execution_count": 5,
   "metadata": {
    "colab": {
     "base_uri": "https://localhost:8080/"
    },
    "id": "qFxQENjh2FGo",
    "outputId": "671cd683-5e79-4c11-a67d-bf88336b430e"
   },
   "outputs": [
    {
     "data": {
      "text/plain": [
       "10"
      ]
     },
     "execution_count": 5,
     "metadata": {},
     "output_type": "execute_result"
    }
   ],
   "source": [
    "## Get number back as Python int\n",
    "s1.item()"
   ]
  },
  {
   "cell_type": "code",
   "execution_count": 6,
   "metadata": {
    "colab": {
     "base_uri": "https://localhost:8080/"
    },
    "id": "fftgf0Ui2hT5",
    "outputId": "d0ba7d9a-d79b-4b76-982f-316ae84a8f5c"
   },
   "outputs": [
    {
     "data": {
      "text/plain": [
       "tensor([5, 5])"
      ]
     },
     "execution_count": 6,
     "metadata": {},
     "output_type": "execute_result"
    }
   ],
   "source": [
    "## Vector\n",
    "\n",
    "v1 = torch.tensor([5, 5])\n",
    "v1"
   ]
  },
  {
   "cell_type": "code",
   "execution_count": 7,
   "metadata": {
    "colab": {
     "base_uri": "https://localhost:8080/"
    },
    "id": "0B_m0q3w228V",
    "outputId": "62592b66-36d6-40e8-d326-6677b59041cd"
   },
   "outputs": [
    {
     "data": {
      "text/plain": [
       "1"
      ]
     },
     "execution_count": 7,
     "metadata": {},
     "output_type": "execute_result"
    }
   ],
   "source": [
    "v1.ndim"
   ]
  },
  {
   "cell_type": "code",
   "execution_count": 8,
   "metadata": {
    "colab": {
     "base_uri": "https://localhost:8080/"
    },
    "id": "ijODxaAa24Wz",
    "outputId": "42003dfd-c410-4c7b-97fc-9aed0a1757a7"
   },
   "outputs": [
    {
     "data": {
      "text/plain": [
       "torch.Size([2])"
      ]
     },
     "execution_count": 8,
     "metadata": {},
     "output_type": "execute_result"
    }
   ],
   "source": [
    "v1.shape"
   ]
  },
  {
   "cell_type": "code",
   "execution_count": 9,
   "metadata": {
    "colab": {
     "base_uri": "https://localhost:8080/"
    },
    "id": "ZCrT1u713Hav",
    "outputId": "a80c1895-9803-40a1-d71e-ea5489f85030"
   },
   "outputs": [
    {
     "data": {
      "text/plain": [
       "tensor([[ 7,  8],\n",
       "        [ 9, 10]])"
      ]
     },
     "execution_count": 9,
     "metadata": {},
     "output_type": "execute_result"
    }
   ],
   "source": [
    "## Matrix\n",
    "M1 = torch.tensor([[7,8],\n",
    "                   [9,10]])\n",
    "\n",
    "M1"
   ]
  },
  {
   "cell_type": "code",
   "execution_count": 10,
   "metadata": {
    "colab": {
     "base_uri": "https://localhost:8080/"
    },
    "id": "XJQ7l6Cz3WOY",
    "outputId": "c4f6ec3e-e9a6-476a-98f4-86b0f89bd65f"
   },
   "outputs": [
    {
     "data": {
      "text/plain": [
       "2"
      ]
     },
     "execution_count": 10,
     "metadata": {},
     "output_type": "execute_result"
    }
   ],
   "source": [
    "M1.ndim"
   ]
  },
  {
   "cell_type": "code",
   "execution_count": 11,
   "metadata": {
    "colab": {
     "base_uri": "https://localhost:8080/"
    },
    "id": "efDCj0uX3f7P",
    "outputId": "f61faed1-fab9-40a6-dd72-5a436eb2abcc"
   },
   "outputs": [
    {
     "data": {
      "text/plain": [
       "tensor([ 9, 10])"
      ]
     },
     "execution_count": 11,
     "metadata": {},
     "output_type": "execute_result"
    }
   ],
   "source": [
    "M1[1]"
   ]
  },
  {
   "cell_type": "code",
   "execution_count": 12,
   "metadata": {
    "colab": {
     "base_uri": "https://localhost:8080/"
    },
    "id": "vMqz7bgn3k5B",
    "outputId": "37e3e272-19c7-41e9-a782-36fc63686685"
   },
   "outputs": [
    {
     "data": {
      "text/plain": [
       "torch.Size([2, 2])"
      ]
     },
     "execution_count": 12,
     "metadata": {},
     "output_type": "execute_result"
    }
   ],
   "source": [
    "M1.shape"
   ]
  },
  {
   "cell_type": "code",
   "execution_count": 13,
   "metadata": {
    "colab": {
     "base_uri": "https://localhost:8080/"
    },
    "id": "ZRrw3ZWx3nrX",
    "outputId": "826531d4-dd70-4583-8cee-7acef5289b79"
   },
   "outputs": [
    {
     "data": {
      "text/plain": [
       "tensor([[[1, 2, 3],\n",
       "         [3, 6, 9],\n",
       "         [2, 5, 8]]])"
      ]
     },
     "execution_count": 13,
     "metadata": {},
     "output_type": "execute_result"
    }
   ],
   "source": [
    "## Tensor\n",
    "T1 = torch.tensor([[[1,2,3],\n",
    "                    [3,6,9],\n",
    "                    [2,5,8]]])\n",
    "T1"
   ]
  },
  {
   "cell_type": "code",
   "execution_count": 14,
   "metadata": {
    "colab": {
     "base_uri": "https://localhost:8080/"
    },
    "id": "DBMLvxK44I7K",
    "outputId": "c9313b36-5f4b-462e-ffae-ae123cbb5eda"
   },
   "outputs": [
    {
     "data": {
      "text/plain": [
       "3"
      ]
     },
     "execution_count": 14,
     "metadata": {},
     "output_type": "execute_result"
    }
   ],
   "source": [
    "T1.ndim"
   ]
  },
  {
   "cell_type": "code",
   "execution_count": 15,
   "metadata": {
    "colab": {
     "base_uri": "https://localhost:8080/"
    },
    "id": "a4txnSZM4Knn",
    "outputId": "53fa8e70-5a1c-4812-8f22-5b2555ea10c6"
   },
   "outputs": [
    {
     "data": {
      "text/plain": [
       "torch.Size([1, 3, 3])"
      ]
     },
     "execution_count": 15,
     "metadata": {},
     "output_type": "execute_result"
    }
   ],
   "source": [
    "T1.shape"
   ]
  },
  {
   "cell_type": "code",
   "execution_count": 16,
   "metadata": {
    "colab": {
     "base_uri": "https://localhost:8080/"
    },
    "id": "y90x89M94QtH",
    "outputId": "3a9b2819-9fb6-4bf6-b162-d34221311eff"
   },
   "outputs": [
    {
     "data": {
      "text/plain": [
       "tensor([[1, 2, 3],\n",
       "        [3, 6, 9],\n",
       "        [2, 5, 8]])"
      ]
     },
     "execution_count": 16,
     "metadata": {},
     "output_type": "execute_result"
    }
   ],
   "source": [
    "T1[0]"
   ]
  },
  {
   "cell_type": "markdown",
   "metadata": {
    "id": "nGAZMELV5HL7"
   },
   "source": [
    "# 2# Creating Random Tensors in PyTorch\n",
    "\n",
    "\n"
   ]
  },
  {
   "cell_type": "code",
   "execution_count": 17,
   "metadata": {
    "colab": {
     "base_uri": "https://localhost:8080/"
    },
    "id": "MAgOgo8d5KJl",
    "outputId": "9ce38418-5b79-4b48-8a02-f56dd295093a"
   },
   "outputs": [
    {
     "data": {
      "text/plain": [
       "tensor([[0.8219, 0.3801, 0.8438, 0.7647],\n",
       "        [0.7911, 0.2296, 0.4615, 0.1038],\n",
       "        [0.3041, 0.3485, 0.6018, 0.8251]])"
      ]
     },
     "execution_count": 17,
     "metadata": {},
     "output_type": "execute_result"
    }
   ],
   "source": [
    "randTensor1 = torch.rand(3,4)\n",
    "randTensor1"
   ]
  },
  {
   "cell_type": "code",
   "execution_count": 18,
   "metadata": {
    "colab": {
     "base_uri": "https://localhost:8080/"
    },
    "id": "5vS6c0zU6bP-",
    "outputId": "26339909-7543-412d-998b-81d019637a81"
   },
   "outputs": [
    {
     "data": {
      "text/plain": [
       "2"
      ]
     },
     "execution_count": 18,
     "metadata": {},
     "output_type": "execute_result"
    }
   ],
   "source": [
    "randTensor1.ndim"
   ]
  },
  {
   "cell_type": "code",
   "execution_count": 19,
   "metadata": {
    "colab": {
     "base_uri": "https://localhost:8080/"
    },
    "id": "C_ieRYxU6hux",
    "outputId": "af6fa92b-0dc7-43a3-9a61-9f83c1de53ee"
   },
   "outputs": [
    {
     "data": {
      "text/plain": [
       "tensor([[[0.5245, 0.8392, 0.1720],\n",
       "         [0.7700, 0.5729, 0.1608],\n",
       "         [0.9971, 0.3293, 0.5045]]])"
      ]
     },
     "execution_count": 19,
     "metadata": {},
     "output_type": "execute_result"
    }
   ],
   "source": [
    "randTensor2 = torch.rand(1,3,3)\n",
    "randTensor2"
   ]
  },
  {
   "cell_type": "code",
   "execution_count": 20,
   "metadata": {
    "colab": {
     "base_uri": "https://localhost:8080/"
    },
    "id": "5Y64c4db6ymn",
    "outputId": "bdecb9d9-1995-42d4-b85a-3a6b97b7b687"
   },
   "outputs": [
    {
     "data": {
      "text/plain": [
       "3"
      ]
     },
     "execution_count": 20,
     "metadata": {},
     "output_type": "execute_result"
    }
   ],
   "source": [
    "randTensor2.ndim"
   ]
  },
  {
   "cell_type": "code",
   "execution_count": 21,
   "metadata": {
    "colab": {
     "base_uri": "https://localhost:8080/"
    },
    "id": "8ZMNquwv61AM",
    "outputId": "06a713ea-91c9-4527-892f-701c5600811b"
   },
   "outputs": [
    {
     "data": {
      "text/plain": [
       "(torch.Size([512, 512, 3]), 3)"
      ]
     },
     "execution_count": 21,
     "metadata": {},
     "output_type": "execute_result"
    }
   ],
   "source": [
    "## Create a random tensor similar to image shape\n",
    "\n",
    "image_tensor = torch.rand(size=(512,512,3))\n",
    "image_tensor\n",
    "image_tensor.shape, image_tensor.ndim"
   ]
  },
  {
   "cell_type": "markdown",
   "metadata": {
    "id": "n_-VHA_B8VIk"
   },
   "source": [
    "# Creating Tensors With Zeros and Ones in PyTorch"
   ]
  },
  {
   "cell_type": "code",
   "execution_count": 22,
   "metadata": {
    "colab": {
     "base_uri": "https://localhost:8080/"
    },
    "id": "NRczSHKn7nMj",
    "outputId": "6dd4deb6-b844-43c0-f577-8af1731682b6"
   },
   "outputs": [
    {
     "data": {
      "text/plain": [
       "tensor([[0., 0., 0., 0.],\n",
       "        [0., 0., 0., 0.],\n",
       "        [0., 0., 0., 0.]])"
      ]
     },
     "execution_count": 22,
     "metadata": {},
     "output_type": "execute_result"
    }
   ],
   "source": [
    "# Create a tensor of all zeros\n",
    "zeros = torch.zeros([3,4])\n",
    "zeros"
   ]
  },
  {
   "cell_type": "code",
   "execution_count": 23,
   "metadata": {
    "colab": {
     "base_uri": "https://localhost:8080/"
    },
    "id": "cvvXEp1N80aQ",
    "outputId": "965f899c-5284-4d5a-8931-4447b4f38d78"
   },
   "outputs": [
    {
     "data": {
      "text/plain": [
       "tensor([[0., 0., 0., 0.],\n",
       "        [0., 0., 0., 0.],\n",
       "        [0., 0., 0., 0.]])"
      ]
     },
     "execution_count": 23,
     "metadata": {},
     "output_type": "execute_result"
    }
   ],
   "source": [
    "zeros * randTensor1"
   ]
  },
  {
   "cell_type": "code",
   "execution_count": 24,
   "metadata": {
    "colab": {
     "base_uri": "https://localhost:8080/"
    },
    "id": "SO3NYkg986NH",
    "outputId": "e8d9c915-58e3-48f5-b311-7cd87568c65a"
   },
   "outputs": [
    {
     "data": {
      "text/plain": [
       "tensor([[1., 1., 1., 1.],\n",
       "        [1., 1., 1., 1.],\n",
       "        [1., 1., 1., 1.]])"
      ]
     },
     "execution_count": 24,
     "metadata": {},
     "output_type": "execute_result"
    }
   ],
   "source": [
    "# Create a tensor of all Ones\n",
    "\n",
    "ones = torch.ones([3,4])\n",
    "ones"
   ]
  },
  {
   "cell_type": "code",
   "execution_count": 25,
   "metadata": {
    "colab": {
     "base_uri": "https://localhost:8080/"
    },
    "id": "nLWVLIvq_TtJ",
    "outputId": "efce82d0-0cd1-4f34-83ac-4303408a6653"
   },
   "outputs": [
    {
     "data": {
      "text/plain": [
       "torch.float32"
      ]
     },
     "execution_count": 25,
     "metadata": {},
     "output_type": "execute_result"
    }
   ],
   "source": [
    "## Default datatype of pytorch tensor\n",
    "ones.dtype"
   ]
  },
  {
   "cell_type": "code",
   "execution_count": 26,
   "metadata": {
    "colab": {
     "base_uri": "https://localhost:8080/"
    },
    "id": "iIGyWqp1_W7O",
    "outputId": "f6d7dcb6-e16b-4602-a183-4b4276ef7c5b"
   },
   "outputs": [
    {
     "data": {
      "text/plain": [
       "torch.float32"
      ]
     },
     "execution_count": 26,
     "metadata": {},
     "output_type": "execute_result"
    }
   ],
   "source": [
    "randTensor1.dtype"
   ]
  },
  {
   "cell_type": "markdown",
   "metadata": {
    "id": "LH-i162AQF_K"
   },
   "source": [
    "# Creating a Tensor Range and Tensors Like Other Tensors"
   ]
  },
  {
   "cell_type": "code",
   "execution_count": 27,
   "metadata": {
    "colab": {
     "base_uri": "https://localhost:8080/"
    },
    "id": "bVJgkqJQ_ZtP",
    "outputId": "3d90ab1b-1d56-41cb-9d09-c490c5d42269"
   },
   "outputs": [
    {
     "data": {
      "text/plain": [
       "tensor([0, 1, 2, 3, 4, 5, 6, 7, 8, 9])"
      ]
     },
     "execution_count": 27,
     "metadata": {},
     "output_type": "execute_result"
    }
   ],
   "source": [
    "## Use tourch.arange\n",
    "\n",
    "one_to_zero = torch.arange(start=0, end=10)\n",
    "one_to_zero"
   ]
  },
  {
   "cell_type": "code",
   "execution_count": 28,
   "metadata": {
    "colab": {
     "base_uri": "https://localhost:8080/"
    },
    "id": "A0217FYXQkSz",
    "outputId": "e5807a13-46f5-4e9f-f97b-fe89652b50d6"
   },
   "outputs": [
    {
     "data": {
      "text/plain": [
       "tensor([0, 0, 0, 0, 0, 0, 0, 0, 0, 0])"
      ]
     },
     "execution_count": 28,
     "metadata": {},
     "output_type": "execute_result"
    }
   ],
   "source": [
    "## Creating tensors like\n",
    "\n",
    "ten_zeros = torch.zeros_like(input=one_to_zero)\n",
    "ten_zeros"
   ]
  },
  {
   "cell_type": "markdown",
   "metadata": {
    "id": "aLopExiGRE27"
   },
   "source": [
    "# Dealing With Tensor Data Types"
   ]
  },
  {
   "cell_type": "code",
   "execution_count": 29,
   "metadata": {
    "colab": {
     "base_uri": "https://localhost:8080/"
    },
    "id": "2dMsGNfBQ8UQ",
    "outputId": "ceb39a06-0818-473d-827e-b3d11d52e939"
   },
   "outputs": [
    {
     "data": {
      "text/plain": [
       "tensor([3., 5., 7.])"
      ]
     },
     "execution_count": 29,
     "metadata": {},
     "output_type": "execute_result"
    }
   ],
   "source": [
    "# Float 32-bit Tensor\n",
    "float_32_tensor = torch.tensor([3.0, 5.0, 7.0],\n",
    "                               dtype=None)\n",
    "\n",
    "float_32_tensor"
   ]
  },
  {
   "cell_type": "code",
   "execution_count": 30,
   "metadata": {
    "colab": {
     "base_uri": "https://localhost:8080/"
    },
    "id": "wfrY3I50eu2G",
    "outputId": "da814e41-ed51-478b-d57a-2dce3a5d8fa8"
   },
   "outputs": [
    {
     "data": {
      "text/plain": [
       "torch.float32"
      ]
     },
     "execution_count": 30,
     "metadata": {},
     "output_type": "execute_result"
    }
   ],
   "source": [
    "float_32_tensor.dtype"
   ]
  },
  {
   "cell_type": "code",
   "execution_count": 31,
   "metadata": {
    "colab": {
     "base_uri": "https://localhost:8080/"
    },
    "id": "HWgXk-h8e0w4",
    "outputId": "b27a6602-8587-4096-ed04-a79de2258175"
   },
   "outputs": [
    {
     "data": {
      "text/plain": [
       "tensor([3., 5., 7.], dtype=torch.float16)"
      ]
     },
     "execution_count": 31,
     "metadata": {},
     "output_type": "execute_result"
    }
   ],
   "source": [
    "float_16_tensor = torch.tensor([3.0, 5.0, 7.0],\n",
    "                               dtype=torch.float16)\n",
    "\n",
    "float_16_tensor"
   ]
  },
  {
   "cell_type": "code",
   "execution_count": 32,
   "metadata": {
    "colab": {
     "base_uri": "https://localhost:8080/"
    },
    "id": "jUwjOk_ofJl8",
    "outputId": "7df8a0fc-7488-4a94-de77-4c8f0b63899b"
   },
   "outputs": [
    {
     "data": {
      "text/plain": [
       "torch.float32"
      ]
     },
     "execution_count": 32,
     "metadata": {},
     "output_type": "execute_result"
    }
   ],
   "source": [
    "float_32_tensor = torch.tensor([3.0, 5.0, 7.0],\n",
    "                               dtype=None,\n",
    "                               device=\"cpu\",\n",
    "                               requires_grad=False)\n",
    "\n",
    "float_32_tensor.dtype"
   ]
  },
  {
   "cell_type": "code",
   "execution_count": 33,
   "metadata": {
    "colab": {
     "base_uri": "https://localhost:8080/"
    },
    "id": "tkFaaKk5fmFG",
    "outputId": "b507dd1e-d6b5-4e9d-a804-132425f958d3"
   },
   "outputs": [
    {
     "data": {
      "text/plain": [
       "tensor([3., 5., 7.], dtype=torch.float16)"
      ]
     },
     "execution_count": 33,
     "metadata": {},
     "output_type": "execute_result"
    }
   ],
   "source": [
    "float_16_tensor = float_32_tensor.type(torch.float16)\n",
    "float_16_tensor"
   ]
  },
  {
   "cell_type": "code",
   "execution_count": 34,
   "metadata": {
    "colab": {
     "base_uri": "https://localhost:8080/"
    },
    "id": "H2DtcoKef7YT",
    "outputId": "58fb54b9-aed5-40b4-c835-33f56536282e"
   },
   "outputs": [
    {
     "data": {
      "text/plain": [
       "tensor([ 9., 25., 49.])"
      ]
     },
     "execution_count": 34,
     "metadata": {},
     "output_type": "execute_result"
    }
   ],
   "source": [
    "float_16_tensor * float_32_tensor"
   ]
  },
  {
   "cell_type": "code",
   "execution_count": 35,
   "metadata": {
    "colab": {
     "base_uri": "https://localhost:8080/"
    },
    "id": "nzkSIIkXgGvK",
    "outputId": "1d6e5252-9ed2-4f7c-c08c-252c9b1074a8"
   },
   "outputs": [
    {
     "data": {
      "text/plain": [
       "tensor([3, 5, 7], dtype=torch.int32)"
      ]
     },
     "execution_count": 35,
     "metadata": {},
     "output_type": "execute_result"
    }
   ],
   "source": [
    "int_32_tensor = torch.tensor([3, 5, 7], dtype=torch.int32)\n",
    "int_32_tensor"
   ]
  },
  {
   "cell_type": "code",
   "execution_count": 36,
   "metadata": {
    "colab": {
     "base_uri": "https://localhost:8080/"
    },
    "id": "nLEKk1t6ga5h",
    "outputId": "f2b79f7c-ae7a-46e0-cf25-3fbc36b244e5"
   },
   "outputs": [
    {
     "data": {
      "text/plain": [
       "tensor([ 9., 25., 49.])"
      ]
     },
     "execution_count": 36,
     "metadata": {},
     "output_type": "execute_result"
    }
   ],
   "source": [
    "float_32_tensor * int_32_tensor"
   ]
  },
  {
   "cell_type": "code",
   "execution_count": 37,
   "metadata": {
    "colab": {
     "base_uri": "https://localhost:8080/"
    },
    "id": "IeUOYT35gkIA",
    "outputId": "69d47b9d-5d5b-4de1-da7a-aa32e82612ea"
   },
   "outputs": [
    {
     "data": {
      "text/plain": [
       "torch.float32"
      ]
     },
     "execution_count": 37,
     "metadata": {},
     "output_type": "execute_result"
    }
   ],
   "source": [
    "(float_32_tensor * int_32_tensor).dtype"
   ]
  },
  {
   "cell_type": "markdown",
   "metadata": {
    "id": "0CAyhG_lbqYR"
   },
   "source": [
    "# Getting information from tensors\n",
    "1. Tensors not right datatype - to get datatypes from tensor, can use `tensor.dtype`.\n",
    "2. Tensors not right shape - to get shape a tensor, can use `tensor.shape`.\n",
    "3. Tensor not on the right device - to get devices from a tensor, can use `tensor.device`."
   ]
  },
  {
   "cell_type": "code",
   "execution_count": 38,
   "metadata": {
    "colab": {
     "base_uri": "https://localhost:8080/"
    },
    "id": "nJXylZRWgr2o",
    "outputId": "6e8e7711-44d3-43be-c513-3330302bc074"
   },
   "outputs": [
    {
     "data": {
      "text/plain": [
       "tensor([[0.7013, 0.7554, 0.7683, 0.4175],\n",
       "        [0.4183, 0.7438, 0.8934, 0.7768],\n",
       "        [0.7358, 0.1055, 0.9339, 0.5235]])"
      ]
     },
     "execution_count": 38,
     "metadata": {},
     "output_type": "execute_result"
    }
   ],
   "source": [
    "rand_tensor = torch.rand(3,4)\n",
    "rand_tensor"
   ]
  },
  {
   "cell_type": "code",
   "execution_count": 39,
   "metadata": {
    "colab": {
     "base_uri": "https://localhost:8080/"
    },
    "id": "Oh6h71xFcyew",
    "outputId": "50a88f0f-bb6c-4d5c-9d27-b9798800acb6"
   },
   "outputs": [
    {
     "name": "stdout",
     "output_type": "stream",
     "text": [
      "tensor([[0.7013, 0.7554, 0.7683, 0.4175],\n",
      "        [0.4183, 0.7438, 0.8934, 0.7768],\n",
      "        [0.7358, 0.1055, 0.9339, 0.5235]])\n",
      "Datatype of tensor: torch.float32\n",
      "Shape of tensor: torch.Size([3, 4])\n",
      "Device tensor is on: cpu\n"
     ]
    }
   ],
   "source": [
    "print(rand_tensor)\n",
    "print(f\"Datatype of tensor: {rand_tensor.dtype}\")\n",
    "print(f\"Shape of tensor: {rand_tensor.shape}\")\n",
    "print(f\"Device tensor is on: {rand_tensor.device}\")"
   ]
  },
  {
   "cell_type": "markdown",
   "metadata": {
    "id": "ouGrin0_trKt"
   },
   "source": [
    "# Math Operations with Tensors\n",
    "\n",
    "**Tensor operations include:**\n",
    "- Addition\n",
    "- Subtraction\n",
    "- Multiplication (Element-wise)\n",
    "- Division\n",
    "- Matrix Multiplication"
   ]
  },
  {
   "cell_type": "code",
   "execution_count": 40,
   "metadata": {
    "colab": {
     "base_uri": "https://localhost:8080/"
    },
    "id": "7cPG5e04dcQk",
    "outputId": "95eca69f-dd0f-4d54-a440-7c6bd7319851"
   },
   "outputs": [
    {
     "data": {
      "text/plain": [
       "tensor([10, 20, 30])"
      ]
     },
     "execution_count": 40,
     "metadata": {},
     "output_type": "execute_result"
    }
   ],
   "source": [
    "#Create a tensor\n",
    "tensor = torch.tensor([10, 20, 30])\n",
    "tensor"
   ]
  },
  {
   "cell_type": "code",
   "execution_count": 41,
   "metadata": {
    "colab": {
     "base_uri": "https://localhost:8080/"
    },
    "id": "Eaw3sfIluvct",
    "outputId": "5d358219-830b-4b5b-d2fa-548a3ed8434d"
   },
   "outputs": [
    {
     "name": "stdout",
     "output_type": "stream",
     "text": [
      "tensor([20, 30, 40])\n",
      "tensor([30, 40, 50])\n"
     ]
    }
   ],
   "source": [
    "#Addition\n",
    "print(tensor + 10)\n",
    "print(torch.add(tensor, 20))"
   ]
  },
  {
   "cell_type": "code",
   "execution_count": 42,
   "metadata": {
    "colab": {
     "base_uri": "https://localhost:8080/"
    },
    "id": "MIvxg-ORu7u8",
    "outputId": "c134cda4-d6a2-471a-982c-87a2c040f11e"
   },
   "outputs": [
    {
     "name": "stdout",
     "output_type": "stream",
     "text": [
      "tensor([100, 200, 300])\n",
      "tensor([100, 200, 300])\n"
     ]
    }
   ],
   "source": [
    "#Multiplication\n",
    "print(tensor * 10)\n",
    "print(torch.mul(tensor, 10))"
   ]
  },
  {
   "cell_type": "code",
   "execution_count": 43,
   "metadata": {
    "colab": {
     "base_uri": "https://localhost:8080/"
    },
    "id": "K2L6NNj9vO_3",
    "outputId": "939522ab-bbfb-4a92-d70c-d7d2c725b2cc"
   },
   "outputs": [
    {
     "name": "stdout",
     "output_type": "stream",
     "text": [
      "tensor([ 5., 10., 15.])\n",
      "tensor([ 5., 10., 15.])\n"
     ]
    }
   ],
   "source": [
    "print(tensor/2)\n",
    "print(torch.divide(tensor, 2))"
   ]
  },
  {
   "cell_type": "markdown",
   "metadata": {
    "id": "cCknelVIgL3u",
    "tags": []
   },
   "source": [
    "# Matrix Multiplication\n",
    "\n",
    "Matrix multiplication is a fundamental operation in linear algebra that involves multiplying two matrices to produce a new matrix. In order for matrix multiplication to be defined, the number of columns in the first matrix must be equal to the number of rows in the second matrix.\n",
    "\n",
    "Given two matrices:\n",
    "\n",
    "$A = \\begin{bmatrix} a_{11} & a_{12} & \\cdots & a_{1n} \\\\ a_{21} & a_{22} & \\cdots & a_{2n} \\\\ \\vdots & \\vdots & \\ddots & \\vdots \\\\ a_{m1} & a_{m2} & \\cdots & a_{mn} \\end{bmatrix}$\n",
    "\n",
    "and\n",
    "\n",
    "$B = \\begin{bmatrix} b_{11} & b_{12} & \\cdots & b_{1p} \\\\ b_{21} & b_{22} & \\cdots & b_{2p} \\\\ \\vdots & \\vdots & \\ddots & \\vdots \\\\ b_{n1} & b_{n2} & \\cdots & b_{np} \\end{bmatrix}$\n",
    "\n",
    "the product of matrices $( A )$ and $( B )$ (denoted as $( AB ))$ is calculated as follows:\n",
    "\n",
    "$AB = \\begin{bmatrix} c_{11} & c_{12} & \\cdots & c_{1p} \\\\ c_{21} & c_{22} & \\cdots & c_{2p} \\\\ \\vdots & \\vdots & \\ddots & \\vdots \\\\ c_{m1} & c_{m2} & \\cdots & c_{mp} \\end{bmatrix}$\n",
    "\n",
    "where each element $( c_{ij} )$ of the resulting matrix $( C )$ is obtained by taking the dot product of the $( i )$-th row of matrix $( A )$ and the $( j )$-th column of matrix $( B )$:\n",
    "\n",
    "$c_{ij} = a_{i1}b_{1j} + a_{i2}b_{2j} + \\cdots + a_{in}b_{nj} = \\sum_{k=1}^{n} a_{ik}b_{kj}$\n",
    "\n",
    "Matrix multiplication can be performed using different methods, such as the row-by-column method, where each element of the resulting matrix is computed individually, or more efficient algorithms like the Strassen algorithm or the Coppersmith–Winograd algorithm, which are used for large matrices.\n",
    "\n",
    "Matrix multiplication is used in various fields such as computer graphics, robotics, physics, and engineering for solving systems of linear equations, transformations, and many other applications.\n",
    "\n",
    "Two main ways of performing multiplication in neural networks and deep learning:\n",
    "\n",
    "### 1. Element-wise multiplicaion\n",
    "\n",
    "![Alt text](https://www.mathsisfun.com/algebra/images/matrix-multiply-constant.svg \"a title\")\n",
    "\n",
    "### 2. Matrix multiplication (dot product)\n",
    "\n",
    "![Alt text](https://www.mathsisfun.com/algebra/images/matrix-multiply-a.svg \"a title\")"
   ]
  },
  {
   "cell_type": "code",
   "execution_count": 44,
   "metadata": {
    "id": "TByLRJ056PeT"
   },
   "outputs": [],
   "source": [
    "#Import Pytorch\n",
    "import torch"
   ]
  },
  {
   "cell_type": "code",
   "execution_count": 45,
   "metadata": {
    "colab": {
     "base_uri": "https://localhost:8080/"
    },
    "id": "ZI3OKpikvzBz",
    "outputId": "171a2671-9d7c-4d8e-e6e4-dfb02adfdb13"
   },
   "outputs": [
    {
     "name": "stdout",
     "output_type": "stream",
     "text": [
      "tensor([10, 20, 30]) * tensor([10, 20, 30])\n",
      "Equals: tensor([100, 400, 900])\n"
     ]
    }
   ],
   "source": [
    "#Element wise multiplication\n",
    "tensor = torch.tensor([10, 20, 30])\n",
    "print(tensor, \"*\", tensor)\n",
    "print(f\"Equals: {tensor * tensor}\")"
   ]
  },
  {
   "cell_type": "code",
   "execution_count": 46,
   "metadata": {
    "colab": {
     "base_uri": "https://localhost:8080/"
    },
    "id": "gofb5z0M8BIm",
    "outputId": "5de3dfe6-e0a0-4c7a-85bb-8ef9af0d3f5e"
   },
   "outputs": [
    {
     "data": {
      "text/plain": [
       "tensor(1400)"
      ]
     },
     "execution_count": 46,
     "metadata": {},
     "output_type": "execute_result"
    }
   ],
   "source": [
    "# Matrix Multiplication\n",
    "\n",
    "torch.matmul(tensor, tensor)"
   ]
  },
  {
   "cell_type": "code",
   "execution_count": 47,
   "metadata": {
    "colab": {
     "base_uri": "https://localhost:8080/"
    },
    "id": "xVF7qFLf84se",
    "outputId": "7acf0e98-0d14-4848-ab14-ec8b8b7859c5"
   },
   "outputs": [
    {
     "data": {
      "text/plain": [
       "tensor([10, 20, 30])"
      ]
     },
     "execution_count": 47,
     "metadata": {},
     "output_type": "execute_result"
    }
   ],
   "source": [
    "tensor"
   ]
  },
  {
   "cell_type": "code",
   "execution_count": 48,
   "metadata": {
    "colab": {
     "base_uri": "https://localhost:8080/"
    },
    "id": "FTlenbD28RKu",
    "outputId": "c4ad895f-4286-4ddb-be60-5e5ad2655a2a"
   },
   "outputs": [
    {
     "data": {
      "text/plain": [
       "1400"
      ]
     },
     "execution_count": 48,
     "metadata": {},
     "output_type": "execute_result"
    }
   ],
   "source": [
    "# #let's do it by hand\n",
    "10*10 + 20*20 + 30*30"
   ]
  },
  {
   "cell_type": "code",
   "execution_count": 49,
   "metadata": {
    "colab": {
     "base_uri": "https://localhost:8080/"
    },
    "id": "-us_qPw58vYC",
    "outputId": "1adefa7b-1989-4322-a71c-eab127c9eef8"
   },
   "outputs": [
    {
     "name": "stdout",
     "output_type": "stream",
     "text": [
      "tensor(1400)\n",
      "CPU times: total: 0 ns\n",
      "Wall time: 2 ms\n"
     ]
    }
   ],
   "source": [
    "%%time\n",
    "val = 0\n",
    "for i in range(len(tensor)):\n",
    "    val += tensor[i] * tensor[i]\n",
    "print(val)"
   ]
  },
  {
   "cell_type": "code",
   "execution_count": 50,
   "metadata": {
    "colab": {
     "base_uri": "https://localhost:8080/"
    },
    "id": "crCe18il9IEQ",
    "outputId": "e04180cc-ec8b-4071-f71b-9ef07494924c"
   },
   "outputs": [
    {
     "name": "stdout",
     "output_type": "stream",
     "text": [
      "CPU times: total: 0 ns\n",
      "Wall time: 0 ns\n"
     ]
    },
    {
     "data": {
      "text/plain": [
       "tensor(1400)"
      ]
     },
     "execution_count": 50,
     "metadata": {},
     "output_type": "execute_result"
    }
   ],
   "source": [
    "%%time\n",
    "torch.matmul(tensor, tensor)"
   ]
  },
  {
   "cell_type": "markdown",
   "metadata": {
    "id": "GQvWvrjDVXvT"
   },
   "source": [
    "# Matrix Multiplication PART-2\n",
    "## Two main ways of performing multiplication in neural networks and deep learning:\n",
    "\n",
    "There are two main rules that performing matrix mutliplication needs to satisfy:\n",
    "1. The **inner dimensions** must match:\n",
    "* `(4, 3) @ (4, 3)` won't work\n",
    "* `(3, 4) @ (4, 3)` will work\n",
    "* `(4, 3) @ (3, 4)` will work\n",
    "2. The resulting matrix has the shape of the **outer dimensions**:\n",
    "* `(3, 4) @ (4, 3)` -> `(3, 3)`\n",
    "* `(4, 3) @ (3, 4)` -> `(4, 4)`"
   ]
  },
  {
   "cell_type": "code",
   "execution_count": 51,
   "metadata": {
    "colab": {
     "base_uri": "https://localhost:8080/"
    },
    "id": "T_C-h6HV9Mqd",
    "outputId": "eb68a1b6-7d27-400d-d7d7-81684c1f76f0"
   },
   "outputs": [
    {
     "name": "stdout",
     "output_type": "stream",
     "text": [
      "tensor([[0.9309, 0.7579, 0.6597],\n",
      "        [0.6818, 0.2211, 0.1106],\n",
      "        [0.9421, 0.3901, 0.2436],\n",
      "        [0.3520, 0.1730, 0.7421]])\n"
     ]
    }
   ],
   "source": [
    "mat1 = torch.rand(4,3)\n",
    "print(mat1)"
   ]
  },
  {
   "cell_type": "code",
   "execution_count": 52,
   "metadata": {
    "colab": {
     "base_uri": "https://localhost:8080/"
    },
    "id": "HUPvHPY9WbU6",
    "outputId": "a9e12457-ece9-4c57-9ca9-e41771d8cb3c"
   },
   "outputs": [
    {
     "name": "stdout",
     "output_type": "stream",
     "text": [
      "tensor([[0.0138, 0.4164, 0.2587, 0.8780],\n",
      "        [0.0552, 0.9511, 0.0886, 0.3484],\n",
      "        [0.0394, 0.4930, 0.5350, 0.0713]])\n"
     ]
    }
   ],
   "source": [
    "mat2 = torch.rand(3,4)\n",
    "print(mat2)"
   ]
  },
  {
   "cell_type": "code",
   "execution_count": 53,
   "metadata": {
    "colab": {
     "base_uri": "https://localhost:8080/"
    },
    "id": "HStNSTMuWjSH",
    "outputId": "381988dd-a821-41a4-e2c5-99f9d7242aee"
   },
   "outputs": [
    {
     "data": {
      "text/plain": [
       "tensor([[0.0807, 1.4337, 0.6609, 1.1285],\n",
       "        [0.0260, 0.5487, 0.2552, 0.6836],\n",
       "        [0.0441, 0.8834, 0.4086, 0.9804],\n",
       "        [0.0437, 0.6770, 0.5034, 0.4223]])"
      ]
     },
     "execution_count": 53,
     "metadata": {},
     "output_type": "execute_result"
    }
   ],
   "source": [
    "torch.matmul(mat1,mat2)"
   ]
  },
  {
   "cell_type": "markdown",
   "metadata": {
    "id": "3GPDjU0W0Vqu"
   },
   "source": [
    "# Matrix Multiplication PART-3\n",
    "## Dealing with matrix shape errors"
   ]
  },
  {
   "cell_type": "code",
   "execution_count": 54,
   "metadata": {
    "colab": {
     "base_uri": "https://localhost:8080/",
     "height": 183
    },
    "id": "RaGJnxPzWnLH",
    "outputId": "b78b8473-4a08-4a10-e152-ba915e96ce26"
   },
   "outputs": [
    {
     "ename": "RuntimeError",
     "evalue": "mat1 and mat2 shapes cannot be multiplied (3x2 and 3x2)",
     "output_type": "error",
     "traceback": [
      "\u001b[1;31m---------------------------------------------------------------------------\u001b[0m",
      "\u001b[1;31mRuntimeError\u001b[0m                              Traceback (most recent call last)",
      "Cell \u001b[1;32mIn[54], line 9\u001b[0m\n\u001b[0;32m      1\u001b[0m tensor_A \u001b[38;5;241m=\u001b[39m torch\u001b[38;5;241m.\u001b[39mtensor([[\u001b[38;5;241m1\u001b[39m, \u001b[38;5;241m2\u001b[39m],\n\u001b[0;32m      2\u001b[0m                          [\u001b[38;5;241m3\u001b[39m, \u001b[38;5;241m4\u001b[39m],\n\u001b[0;32m      3\u001b[0m                          [\u001b[38;5;241m5\u001b[39m, \u001b[38;5;241m6\u001b[39m]])\n\u001b[0;32m      5\u001b[0m tensor_B \u001b[38;5;241m=\u001b[39m torch\u001b[38;5;241m.\u001b[39mtensor([[\u001b[38;5;241m7\u001b[39m, \u001b[38;5;241m10\u001b[39m],\n\u001b[0;32m      6\u001b[0m                          [\u001b[38;5;241m8\u001b[39m, \u001b[38;5;241m11\u001b[39m],\n\u001b[0;32m      7\u001b[0m                          [\u001b[38;5;241m9\u001b[39m, \u001b[38;5;241m12\u001b[39m]])\n\u001b[1;32m----> 9\u001b[0m \u001b[43mtorch\u001b[49m\u001b[38;5;241;43m.\u001b[39;49m\u001b[43mmatmul\u001b[49m\u001b[43m(\u001b[49m\u001b[43mtensor_A\u001b[49m\u001b[43m,\u001b[49m\u001b[43m \u001b[49m\u001b[43mtensor_B\u001b[49m\u001b[43m)\u001b[49m\n",
      "\u001b[1;31mRuntimeError\u001b[0m: mat1 and mat2 shapes cannot be multiplied (3x2 and 3x2)"
     ]
    }
   ],
   "source": [
    "tensor_A = torch.tensor([[1, 2],\n",
    "                         [3, 4],\n",
    "                         [5, 6]])\n",
    "\n",
    "tensor_B = torch.tensor([[7, 10],\n",
    "                         [8, 11],\n",
    "                         [9, 12]])\n",
    "\n",
    "torch.matmul(tensor_A, tensor_B)"
   ]
  },
  {
   "cell_type": "code",
   "execution_count": 55,
   "metadata": {
    "colab": {
     "base_uri": "https://localhost:8080/"
    },
    "id": "9Ih5pxdr2pv6",
    "outputId": "c535bb6e-6c1b-41f5-8d38-2d51cf21e1e3"
   },
   "outputs": [
    {
     "data": {
      "text/plain": [
       "(torch.Size([3, 2]), torch.Size([3, 2]))"
      ]
     },
     "execution_count": 55,
     "metadata": {},
     "output_type": "execute_result"
    }
   ],
   "source": [
    "tensor_A.shape, tensor_B.shape"
   ]
  },
  {
   "cell_type": "code",
   "execution_count": 56,
   "metadata": {
    "colab": {
     "base_uri": "https://localhost:8080/"
    },
    "id": "2saMP5v-2_OT",
    "outputId": "cb41a0b4-c279-4735-b242-368a4552d285"
   },
   "outputs": [
    {
     "data": {
      "text/plain": [
       "(tensor([[ 7, 10],\n",
       "         [ 8, 11],\n",
       "         [ 9, 12]]),\n",
       " torch.Size([3, 2]))"
      ]
     },
     "execution_count": 56,
     "metadata": {},
     "output_type": "execute_result"
    }
   ],
   "source": [
    "tensor_B, tensor_B.shape"
   ]
  },
  {
   "cell_type": "code",
   "execution_count": 57,
   "metadata": {
    "colab": {
     "base_uri": "https://localhost:8080/"
    },
    "id": "cx8YCgkg3Lev",
    "outputId": "45666aef-9fc9-4c41-d3fa-a2afb10f7f89"
   },
   "outputs": [
    {
     "data": {
      "text/plain": [
       "(tensor([[ 7,  8,  9],\n",
       "         [10, 11, 12]]),\n",
       " torch.Size([2, 3]))"
      ]
     },
     "execution_count": 57,
     "metadata": {},
     "output_type": "execute_result"
    }
   ],
   "source": [
    "tensor_B.T, tensor_B.T.shape"
   ]
  },
  {
   "cell_type": "code",
   "execution_count": 58,
   "metadata": {
    "colab": {
     "base_uri": "https://localhost:8080/"
    },
    "id": "r_Sv_npj3XlJ",
    "outputId": "49e3689d-905f-46d2-af83-b6b76a3bb629"
   },
   "outputs": [
    {
     "data": {
      "text/plain": [
       "tensor([[ 27,  30,  33],\n",
       "        [ 61,  68,  75],\n",
       "        [ 95, 106, 117]])"
      ]
     },
     "execution_count": 58,
     "metadata": {},
     "output_type": "execute_result"
    }
   ],
   "source": [
    "torch.matmul(tensor_A, tensor_B.T)"
   ]
  },
  {
   "cell_type": "markdown",
   "metadata": {},
   "source": [
    "# Min, Max, Mean and Sum of the Tensors"
   ]
  },
  {
   "cell_type": "code",
   "execution_count": 63,
   "metadata": {},
   "outputs": [
    {
     "data": {
      "text/plain": [
       "(tensor([ 0, 10, 20, 30, 40, 50, 60, 70, 80, 90]), torch.int64)"
      ]
     },
     "execution_count": 63,
     "metadata": {},
     "output_type": "execute_result"
    }
   ],
   "source": [
    "# Create a tensor\n",
    "x = torch.arange(0, 100, 10)\n",
    "x, x.dtype"
   ]
  },
  {
   "cell_type": "code",
   "execution_count": 65,
   "metadata": {},
   "outputs": [
    {
     "data": {
      "text/plain": [
       "(tensor(0), tensor(0))"
      ]
     },
     "execution_count": 65,
     "metadata": {},
     "output_type": "execute_result"
    }
   ],
   "source": [
    "#Find the min\n",
    "torch.min(x), x.min()"
   ]
  },
  {
   "cell_type": "code",
   "execution_count": 66,
   "metadata": {},
   "outputs": [
    {
     "data": {
      "text/plain": [
       "(tensor(90), tensor(90))"
      ]
     },
     "execution_count": 66,
     "metadata": {},
     "output_type": "execute_result"
    }
   ],
   "source": [
    "#Find the max\n",
    "torch.max(x), x.max() "
   ]
  },
  {
   "cell_type": "code",
   "execution_count": 69,
   "metadata": {},
   "outputs": [
    {
     "data": {
      "text/plain": [
       "(tensor(45.), tensor(45.))"
      ]
     },
     "execution_count": 69,
     "metadata": {},
     "output_type": "execute_result"
    }
   ],
   "source": [
    "torch.mean(x.type(torch.float32)), x.type(torch.float32).mean()"
   ]
  },
  {
   "cell_type": "code",
   "execution_count": 71,
   "metadata": {},
   "outputs": [
    {
     "data": {
      "text/plain": [
       "(tensor(450), tensor(450))"
      ]
     },
     "execution_count": 71,
     "metadata": {},
     "output_type": "execute_result"
    }
   ],
   "source": [
    "torch.sum(x), x.sum()"
   ]
  },
  {
   "cell_type": "code",
   "execution_count": null,
   "metadata": {},
   "outputs": [],
   "source": []
  },
  {
   "cell_type": "code",
   "execution_count": null,
   "metadata": {},
   "outputs": [],
   "source": []
  },
  {
   "cell_type": "code",
   "execution_count": null,
   "metadata": {},
   "outputs": [],
   "source": []
  }
 ],
 "metadata": {
  "colab": {
   "provenance": []
  },
  "kernelspec": {
   "display_name": "Python 3 (ipykernel)",
   "language": "python",
   "name": "python3"
  },
  "language_info": {
   "codemirror_mode": {
    "name": "ipython",
    "version": 3
   },
   "file_extension": ".py",
   "mimetype": "text/x-python",
   "name": "python",
   "nbconvert_exporter": "python",
   "pygments_lexer": "ipython3",
   "version": "3.10.9"
  },
  "widgets": {
   "application/vnd.jupyter.widget-state+json": {
    "state": {},
    "version_major": 2,
    "version_minor": 0
   }
  }
 },
 "nbformat": 4,
 "nbformat_minor": 4
}
